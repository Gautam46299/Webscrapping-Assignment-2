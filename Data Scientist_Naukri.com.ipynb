{
 "cells": [
  {
   "cell_type": "markdown",
   "id": "93ab772b",
   "metadata": {},
   "source": [
    "# ASSIGNMENT-2"
   ]
  },
  {
   "cell_type": "markdown",
   "id": "044d9087",
   "metadata": {},
   "source": [
    "## Ans-2"
   ]
  },
  {
   "cell_type": "code",
   "execution_count": 1,
   "id": "64b845ba",
   "metadata": {},
   "outputs": [],
   "source": [
    "import selenium\n",
    "from selenium import webdriver\n",
    "import pandas as pd\n",
    "import warnings\n",
    "warnings.filterwarnings(\"ignore\")"
   ]
  },
  {
   "cell_type": "code",
   "execution_count": 2,
   "id": "04d877cd",
   "metadata": {},
   "outputs": [],
   "source": [
    "driver=webdriver.Chrome(r'C:/Users/DELL/Downloads/chromedriver_win32/chromedriver.exe')"
   ]
  },
  {
   "cell_type": "code",
   "execution_count": 3,
   "id": "41af6ccf",
   "metadata": {},
   "outputs": [],
   "source": [
    "url='https://www.naukri.com/'\n",
    "driver.get(url)"
   ]
  },
  {
   "cell_type": "code",
   "execution_count": 6,
   "id": "7b07e864",
   "metadata": {},
   "outputs": [
    {
     "data": {
      "text/plain": [
       "<selenium.webdriver.remote.webelement.WebElement (session=\"4064eba7907d82e967919ce57bbbf078\", element=\"b49aa4df-08ee-4b49-be42-c111662b84e9\")>"
      ]
     },
     "execution_count": 6,
     "metadata": {},
     "output_type": "execute_result"
    }
   ],
   "source": [
    "search_job=driver.find_element_by_class_name(\"suggestor-input \")\n",
    "search_job"
   ]
  },
  {
   "cell_type": "code",
   "execution_count": 8,
   "id": "42bb89f4",
   "metadata": {},
   "outputs": [],
   "source": [
    "search_job.send_keys(\"Data Scientist\")\n"
   ]
  },
  {
   "cell_type": "code",
   "execution_count": 9,
   "id": "f02e55c4",
   "metadata": {},
   "outputs": [
    {
     "data": {
      "text/plain": [
       "<selenium.webdriver.remote.webelement.WebElement (session=\"4064eba7907d82e967919ce57bbbf078\", element=\"d7942363-fa13-4181-9b61-8e3f4a83dea2\")>"
      ]
     },
     "execution_count": 9,
     "metadata": {},
     "output_type": "execute_result"
    }
   ],
   "source": [
    "search_locn=driver.find_element_by_xpath('/html/body/div/div[2]/div[3]/div/div/div[3]/div/div/div/input')\n",
    "search_locn"
   ]
  },
  {
   "cell_type": "code",
   "execution_count": 10,
   "id": "e4188ff1",
   "metadata": {},
   "outputs": [],
   "source": [
    "search_locn.send_keys(\"Banglore\")"
   ]
  },
  {
   "cell_type": "code",
   "execution_count": 13,
   "id": "b664b8ec",
   "metadata": {},
   "outputs": [
    {
     "data": {
      "text/plain": [
       "<selenium.webdriver.remote.webelement.WebElement (session=\"4064eba7907d82e967919ce57bbbf078\", element=\"3e78be10-c3ad-4ade-9249-3956013965b1\")>"
      ]
     },
     "execution_count": 13,
     "metadata": {},
     "output_type": "execute_result"
    }
   ],
   "source": [
    "search_btn=driver.find_element_by_xpath('/html/body/div/div[2]/div[3]/div/div/div[6]')\n",
    "search_btn"
   ]
  },
  {
   "cell_type": "code",
   "execution_count": 15,
   "id": "e6702825",
   "metadata": {},
   "outputs": [],
   "source": [
    "search_btn.click()"
   ]
  },
  {
   "cell_type": "code",
   "execution_count": 16,
   "id": "47c58fa3",
   "metadata": {},
   "outputs": [
    {
     "data": {
      "text/plain": [
       "[<selenium.webdriver.remote.webelement.WebElement (session=\"4064eba7907d82e967919ce57bbbf078\", element=\"6e07cbbe-6c4a-4a86-b7d5-87a7b583c10c\")>,\n",
       " <selenium.webdriver.remote.webelement.WebElement (session=\"4064eba7907d82e967919ce57bbbf078\", element=\"db2248d2-f3c3-4a88-a905-5bcba2fa3789\")>,\n",
       " <selenium.webdriver.remote.webelement.WebElement (session=\"4064eba7907d82e967919ce57bbbf078\", element=\"434ec3fe-6d9e-4395-966c-8db6c52dfd10\")>,\n",
       " <selenium.webdriver.remote.webelement.WebElement (session=\"4064eba7907d82e967919ce57bbbf078\", element=\"40b9cf79-8659-4ba5-b4b5-b604d15c4ccf\")>,\n",
       " <selenium.webdriver.remote.webelement.WebElement (session=\"4064eba7907d82e967919ce57bbbf078\", element=\"442f32c2-2d4d-4c80-8cf1-ee8e832da8d6\")>,\n",
       " <selenium.webdriver.remote.webelement.WebElement (session=\"4064eba7907d82e967919ce57bbbf078\", element=\"1f23e552-6de2-4a90-a0a1-a3163e994975\")>,\n",
       " <selenium.webdriver.remote.webelement.WebElement (session=\"4064eba7907d82e967919ce57bbbf078\", element=\"67ee529e-2a3e-4b86-8f5b-f28d803fd896\")>,\n",
       " <selenium.webdriver.remote.webelement.WebElement (session=\"4064eba7907d82e967919ce57bbbf078\", element=\"c5a759f9-5f33-4415-8c41-0367c15b1a83\")>,\n",
       " <selenium.webdriver.remote.webelement.WebElement (session=\"4064eba7907d82e967919ce57bbbf078\", element=\"90178960-8cc2-4f62-ba30-2f6b29d6a423\")>,\n",
       " <selenium.webdriver.remote.webelement.WebElement (session=\"4064eba7907d82e967919ce57bbbf078\", element=\"a013590f-e1ad-441b-b300-55ee6a64aed6\")>]"
      ]
     },
     "execution_count": 16,
     "metadata": {},
     "output_type": "execute_result"
    }
   ],
   "source": [
    "title_tags=driver.find_elements_by_xpath('//a[@class=\"title fw500 ellipsis\"]')\n",
    "len(title_tags)\n",
    "title_tags[:10]"
   ]
  },
  {
   "cell_type": "code",
   "execution_count": 20,
   "id": "e1902fff",
   "metadata": {},
   "outputs": [
    {
     "data": {
      "text/plain": [
       "['Excellent Opportunity For Freshers For AI/ML, Data Scientist, BI, QA',\n",
       " 'Junior Data Scientist',\n",
       " 'Data Scientist',\n",
       " 'Urgent Requirement - Data Scientist For a leading US Based MNC',\n",
       " 'Lead Data Scientist',\n",
       " 'Cognitive/AI Senior Data Scientist',\n",
       " 'Sr. Product Data Scientist',\n",
       " 'Data Scientist',\n",
       " 'Associate Solution Architect (Data Scientist)',\n",
       " 'Software Principal Engineer - Data Scientist']"
      ]
     },
     "execution_count": 20,
     "metadata": {},
     "output_type": "execute_result"
    }
   ],
   "source": [
    "job_titles=[]\n",
    "for i in title_tags:\n",
    "    job_titles.append(i.text)\n",
    "len(job_titles)\n",
    "job_titles[:10]"
   ]
  },
  {
   "cell_type": "code",
   "execution_count": 22,
   "id": "5b5ad104",
   "metadata": {},
   "outputs": [
    {
     "data": {
      "text/plain": [
       "[<selenium.webdriver.remote.webelement.WebElement (session=\"4064eba7907d82e967919ce57bbbf078\", element=\"60fbf6e4-d212-4ebb-a0fa-5ba42c973460\")>,\n",
       " <selenium.webdriver.remote.webelement.WebElement (session=\"4064eba7907d82e967919ce57bbbf078\", element=\"231f5227-de12-4f12-a279-d60ecceaaeb9\")>,\n",
       " <selenium.webdriver.remote.webelement.WebElement (session=\"4064eba7907d82e967919ce57bbbf078\", element=\"d02c19ee-b7ba-4a67-b2a5-c55758b615fa\")>,\n",
       " <selenium.webdriver.remote.webelement.WebElement (session=\"4064eba7907d82e967919ce57bbbf078\", element=\"4e1edc9b-70cb-49ad-92c0-53ce3ceb990d\")>,\n",
       " <selenium.webdriver.remote.webelement.WebElement (session=\"4064eba7907d82e967919ce57bbbf078\", element=\"17facb35-e6be-409a-a634-91d8ca4d7938\")>,\n",
       " <selenium.webdriver.remote.webelement.WebElement (session=\"4064eba7907d82e967919ce57bbbf078\", element=\"0da8251f-1de8-4da3-8eb0-d5a1dc46a85b\")>,\n",
       " <selenium.webdriver.remote.webelement.WebElement (session=\"4064eba7907d82e967919ce57bbbf078\", element=\"c38197ff-c9b1-40ad-9bf8-23c924a8f309\")>,\n",
       " <selenium.webdriver.remote.webelement.WebElement (session=\"4064eba7907d82e967919ce57bbbf078\", element=\"d6fe9df1-4131-482a-9196-417c3a86420f\")>,\n",
       " <selenium.webdriver.remote.webelement.WebElement (session=\"4064eba7907d82e967919ce57bbbf078\", element=\"397fbaa1-79f1-425b-857a-34846a9caaf1\")>,\n",
       " <selenium.webdriver.remote.webelement.WebElement (session=\"4064eba7907d82e967919ce57bbbf078\", element=\"ef446fae-bf21-4e5c-987e-52fab99d1e0d\")>]"
      ]
     },
     "execution_count": 22,
     "metadata": {},
     "output_type": "execute_result"
    }
   ],
   "source": [
    "company_tags=driver.find_elements_by_xpath('//a[@class=\"subTitle ellipsis fleft\"]')\n",
    "company_tags[:10]"
   ]
  },
  {
   "cell_type": "code",
   "execution_count": 25,
   "id": "27d6ad0f",
   "metadata": {},
   "outputs": [
    {
     "data": {
      "text/plain": [
       "['NTT Data',\n",
       " 'Titan',\n",
       " 'Visa',\n",
       " 'BLJ TECH GEEKS',\n",
       " 'TransOrg Solutions Services (P) Ltd.',\n",
       " 'IBM',\n",
       " 'Uber',\n",
       " 'Wsp Consultants',\n",
       " 'Apisero',\n",
       " 'Dell']"
      ]
     },
     "execution_count": 25,
     "metadata": {},
     "output_type": "execute_result"
    }
   ],
   "source": [
    "company_names=[]\n",
    "for i in company_tags:\n",
    "    company_names.append(i.text)\n",
    "company_names[:10]"
   ]
  },
  {
   "cell_type": "code",
   "execution_count": 31,
   "id": "de3d7810",
   "metadata": {},
   "outputs": [
    {
     "data": {
      "text/plain": [
       "20"
      ]
     },
     "execution_count": 31,
     "metadata": {},
     "output_type": "execute_result"
    }
   ],
   "source": [
    "exp_tags=driver.find_elements_by_xpath('//li[@class=\"fleft grey-text br2 placeHolderLi experience\"]')\n",
    "len(exp_tags)"
   ]
  },
  {
   "cell_type": "code",
   "execution_count": 33,
   "id": "eec81f97",
   "metadata": {},
   "outputs": [
    {
     "data": {
      "text/plain": [
       "['0-0 Yrs',\n",
       " '1-5 Yrs',\n",
       " '3-7 Yrs',\n",
       " '5-10 Yrs',\n",
       " '4-9 Yrs',\n",
       " '4-8 Yrs',\n",
       " '2-7 Yrs',\n",
       " '3-8 Yrs',\n",
       " '7-12 Yrs',\n",
       " '8-13 Yrs']"
      ]
     },
     "execution_count": 33,
     "metadata": {},
     "output_type": "execute_result"
    }
   ],
   "source": [
    "experience=[]\n",
    "for i in exp_tags:\n",
    "    experience.append(i.text)\n",
    "experience[:10]\n"
   ]
  },
  {
   "cell_type": "code",
   "execution_count": 39,
   "id": "cf8f9eb7",
   "metadata": {},
   "outputs": [
    {
     "data": {
      "text/plain": [
       "20"
      ]
     },
     "execution_count": 39,
     "metadata": {},
     "output_type": "execute_result"
    }
   ],
   "source": [
    "locn_tags=driver.find_elements_by_xpath('//li[@class=\"fleft grey-text br2 placeHolderLi location\"]')\n",
    "len(locn_tags)"
   ]
  },
  {
   "cell_type": "code",
   "execution_count": 40,
   "id": "893def82",
   "metadata": {},
   "outputs": [
    {
     "data": {
      "text/plain": [
       "['Noida, Kolkata, Hyderabad/Secunderabad, Pune, Chennai, Bangalore/Bengaluru, Delhi / NCR, Mumbai (All Areas)\\n(WFH during Covid)',\n",
       " 'Bangalore/Bengaluru',\n",
       " 'Bangalore/Bengaluru',\n",
       " 'Hyderabad/Secunderabad, Chennai, Bangalore/Bengaluru, Delhi / NCR',\n",
       " 'Bangalore/Bengaluru, Delhi / NCR, Mumbai (All Areas)\\n(WFH during Covid)',\n",
       " 'Bangalore/Bengaluru',\n",
       " 'Bangalore/Bengaluru',\n",
       " 'Noida, Bangalore/Bengaluru',\n",
       " 'Hyderabad/Secunderabad, Pune, Chennai, Bangalore/Bengaluru, Delhi / NCR, Mumbai (All Areas)\\n(WFH during Covid)',\n",
       " 'Bangalore/Bengaluru']"
      ]
     },
     "execution_count": 40,
     "metadata": {},
     "output_type": "execute_result"
    }
   ],
   "source": [
    "location=[]\n",
    "for i in locn_tags:\n",
    "    location.append(i.text)\n",
    "    \n",
    "location[:10]"
   ]
  },
  {
   "cell_type": "code",
   "execution_count": 41,
   "id": "e3266cbf",
   "metadata": {},
   "outputs": [
    {
     "data": {
      "text/plain": [
       "(20, 20, 20, 20)"
      ]
     },
     "execution_count": 41,
     "metadata": {},
     "output_type": "execute_result"
    }
   ],
   "source": [
    "len(job_titles),len(company_names), len(experience),len(location)"
   ]
  },
  {
   "cell_type": "code",
   "execution_count": 42,
   "id": "3b590e0d",
   "metadata": {},
   "outputs": [
    {
     "data": {
      "text/html": [
       "<div>\n",
       "<style scoped>\n",
       "    .dataframe tbody tr th:only-of-type {\n",
       "        vertical-align: middle;\n",
       "    }\n",
       "\n",
       "    .dataframe tbody tr th {\n",
       "        vertical-align: top;\n",
       "    }\n",
       "\n",
       "    .dataframe thead th {\n",
       "        text-align: right;\n",
       "    }\n",
       "</style>\n",
       "<table border=\"1\" class=\"dataframe\">\n",
       "  <thead>\n",
       "    <tr style=\"text-align: right;\">\n",
       "      <th></th>\n",
       "      <th>Job Title</th>\n",
       "      <th>Company</th>\n",
       "      <th>Experience</th>\n",
       "      <th>Location</th>\n",
       "    </tr>\n",
       "  </thead>\n",
       "  <tbody>\n",
       "    <tr>\n",
       "      <th>0</th>\n",
       "      <td>Excellent Opportunity For Freshers For AI/ML, ...</td>\n",
       "      <td>NTT Data</td>\n",
       "      <td>0-0 Yrs</td>\n",
       "      <td>Noida, Kolkata, Hyderabad/Secunderabad, Pune, ...</td>\n",
       "    </tr>\n",
       "    <tr>\n",
       "      <th>1</th>\n",
       "      <td>Junior Data Scientist</td>\n",
       "      <td>Titan</td>\n",
       "      <td>1-5 Yrs</td>\n",
       "      <td>Bangalore/Bengaluru</td>\n",
       "    </tr>\n",
       "    <tr>\n",
       "      <th>2</th>\n",
       "      <td>Data Scientist</td>\n",
       "      <td>Visa</td>\n",
       "      <td>3-7 Yrs</td>\n",
       "      <td>Bangalore/Bengaluru</td>\n",
       "    </tr>\n",
       "    <tr>\n",
       "      <th>3</th>\n",
       "      <td>Urgent Requirement - Data Scientist For a lead...</td>\n",
       "      <td>BLJ TECH GEEKS</td>\n",
       "      <td>5-10 Yrs</td>\n",
       "      <td>Hyderabad/Secunderabad, Chennai, Bangalore/Ben...</td>\n",
       "    </tr>\n",
       "    <tr>\n",
       "      <th>4</th>\n",
       "      <td>Lead Data Scientist</td>\n",
       "      <td>TransOrg Solutions Services (P) Ltd.</td>\n",
       "      <td>4-9 Yrs</td>\n",
       "      <td>Bangalore/Bengaluru, Delhi / NCR, Mumbai (All ...</td>\n",
       "    </tr>\n",
       "    <tr>\n",
       "      <th>5</th>\n",
       "      <td>Cognitive/AI Senior Data Scientist</td>\n",
       "      <td>IBM</td>\n",
       "      <td>4-8 Yrs</td>\n",
       "      <td>Bangalore/Bengaluru</td>\n",
       "    </tr>\n",
       "    <tr>\n",
       "      <th>6</th>\n",
       "      <td>Sr. Product Data Scientist</td>\n",
       "      <td>Uber</td>\n",
       "      <td>2-7 Yrs</td>\n",
       "      <td>Bangalore/Bengaluru</td>\n",
       "    </tr>\n",
       "    <tr>\n",
       "      <th>7</th>\n",
       "      <td>Data Scientist</td>\n",
       "      <td>Wsp Consultants</td>\n",
       "      <td>3-8 Yrs</td>\n",
       "      <td>Noida, Bangalore/Bengaluru</td>\n",
       "    </tr>\n",
       "    <tr>\n",
       "      <th>8</th>\n",
       "      <td>Associate Solution Architect (Data Scientist)</td>\n",
       "      <td>Apisero</td>\n",
       "      <td>7-12 Yrs</td>\n",
       "      <td>Hyderabad/Secunderabad, Pune, Chennai, Bangalo...</td>\n",
       "    </tr>\n",
       "    <tr>\n",
       "      <th>9</th>\n",
       "      <td>Software Principal Engineer - Data Scientist</td>\n",
       "      <td>Dell</td>\n",
       "      <td>8-13 Yrs</td>\n",
       "      <td>Bangalore/Bengaluru</td>\n",
       "    </tr>\n",
       "  </tbody>\n",
       "</table>\n",
       "</div>"
      ],
      "text/plain": [
       "                                           Job Title  \\\n",
       "0  Excellent Opportunity For Freshers For AI/ML, ...   \n",
       "1                              Junior Data Scientist   \n",
       "2                                     Data Scientist   \n",
       "3  Urgent Requirement - Data Scientist For a lead...   \n",
       "4                                Lead Data Scientist   \n",
       "5                 Cognitive/AI Senior Data Scientist   \n",
       "6                         Sr. Product Data Scientist   \n",
       "7                                     Data Scientist   \n",
       "8      Associate Solution Architect (Data Scientist)   \n",
       "9       Software Principal Engineer - Data Scientist   \n",
       "\n",
       "                                Company Experience  \\\n",
       "0                              NTT Data    0-0 Yrs   \n",
       "1                                 Titan    1-5 Yrs   \n",
       "2                                  Visa    3-7 Yrs   \n",
       "3                        BLJ TECH GEEKS   5-10 Yrs   \n",
       "4  TransOrg Solutions Services (P) Ltd.    4-9 Yrs   \n",
       "5                                   IBM    4-8 Yrs   \n",
       "6                                  Uber    2-7 Yrs   \n",
       "7                       Wsp Consultants    3-8 Yrs   \n",
       "8                               Apisero   7-12 Yrs   \n",
       "9                                  Dell   8-13 Yrs   \n",
       "\n",
       "                                            Location  \n",
       "0  Noida, Kolkata, Hyderabad/Secunderabad, Pune, ...  \n",
       "1                                Bangalore/Bengaluru  \n",
       "2                                Bangalore/Bengaluru  \n",
       "3  Hyderabad/Secunderabad, Chennai, Bangalore/Ben...  \n",
       "4  Bangalore/Bengaluru, Delhi / NCR, Mumbai (All ...  \n",
       "5                                Bangalore/Bengaluru  \n",
       "6                                Bangalore/Bengaluru  \n",
       "7                         Noida, Bangalore/Bengaluru  \n",
       "8  Hyderabad/Secunderabad, Pune, Chennai, Bangalo...  \n",
       "9                                Bangalore/Bengaluru  "
      ]
     },
     "execution_count": 42,
     "metadata": {},
     "output_type": "execute_result"
    }
   ],
   "source": [
    "jobs= pd.DataFrame()\n",
    "jobs['Job Title']=job_titles[:10]\n",
    "jobs['Company']=company_names[:10]\n",
    "jobs['Experience']=experience[:10]\n",
    "jobs['Location']=location[:10]\n",
    "jobs"
   ]
  },
  {
   "cell_type": "code",
   "execution_count": 43,
   "id": "0d0f5e65",
   "metadata": {},
   "outputs": [],
   "source": [
    "jobs.to_csv(\"Data Scientist_Naukri.com.csv\")"
   ]
  },
  {
   "cell_type": "code",
   "execution_count": 44,
   "id": "afaebf35",
   "metadata": {},
   "outputs": [],
   "source": [
    "driver.close()"
   ]
  },
  {
   "cell_type": "code",
   "execution_count": null,
   "id": "29be22d2",
   "metadata": {},
   "outputs": [],
   "source": []
  }
 ],
 "metadata": {
  "kernelspec": {
   "display_name": "Python 3 (ipykernel)",
   "language": "python",
   "name": "python3"
  },
  "language_info": {
   "codemirror_mode": {
    "name": "ipython",
    "version": 3
   },
   "file_extension": ".py",
   "mimetype": "text/x-python",
   "name": "python",
   "nbconvert_exporter": "python",
   "pygments_lexer": "ipython3",
   "version": "3.9.7"
  }
 },
 "nbformat": 4,
 "nbformat_minor": 5
}
