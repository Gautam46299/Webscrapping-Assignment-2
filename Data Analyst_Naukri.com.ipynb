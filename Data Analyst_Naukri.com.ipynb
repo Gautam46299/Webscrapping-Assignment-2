{
 "cells": [
  {
   "cell_type": "markdown",
   "id": "7b38ad21",
   "metadata": {},
   "source": [
    "# ASSIGNMENT-2"
   ]
  },
  {
   "cell_type": "markdown",
   "id": "cb8f365a",
   "metadata": {},
   "source": [
    "## Ans-1 "
   ]
  },
  {
   "cell_type": "markdown",
   "id": "3fd8b24f",
   "metadata": {},
   "source": [
    "Python program to scrape data for “Data Analyst” Job position in “Bangalore” location. "
   ]
  },
  {
   "cell_type": "code",
   "execution_count": 5,
   "id": "04cfaf41",
   "metadata": {},
   "outputs": [
    {
     "name": "stdout",
     "output_type": "stream",
     "text": [
      "Requirement already satisfied: selenium in c:\\programdata\\anaconda3\\lib\\site-packages (4.1.2)\n",
      "Requirement already satisfied: trio~=0.17 in c:\\programdata\\anaconda3\\lib\\site-packages (from selenium) (0.20.0)\n",
      "Requirement already satisfied: trio-websocket~=0.9 in c:\\programdata\\anaconda3\\lib\\site-packages (from selenium) (0.9.2)\n",
      "Requirement already satisfied: urllib3[secure,socks]~=1.26 in c:\\programdata\\anaconda3\\lib\\site-packages (from selenium) (1.26.7)\n",
      "Requirement already satisfied: async-generator>=1.9 in c:\\programdata\\anaconda3\\lib\\site-packages (from trio~=0.17->selenium) (1.10)\n",
      "Requirement already satisfied: cffi>=1.14 in c:\\programdata\\anaconda3\\lib\\site-packages (from trio~=0.17->selenium) (1.14.6)\n",
      "Requirement already satisfied: attrs>=19.2.0 in c:\\programdata\\anaconda3\\lib\\site-packages (from trio~=0.17->selenium) (21.2.0)\n",
      "Requirement already satisfied: sortedcontainers in c:\\programdata\\anaconda3\\lib\\site-packages (from trio~=0.17->selenium) (2.4.0)\n",
      "Requirement already satisfied: outcome in c:\\programdata\\anaconda3\\lib\\site-packages (from trio~=0.17->selenium) (1.1.0)\n",
      "Requirement already satisfied: idna in c:\\programdata\\anaconda3\\lib\\site-packages (from trio~=0.17->selenium) (3.2)\n",
      "Requirement already satisfied: sniffio in c:\\programdata\\anaconda3\\lib\\site-packages (from trio~=0.17->selenium) (1.2.0)\n",
      "Requirement already satisfied: pycparser in c:\\programdata\\anaconda3\\lib\\site-packages (from cffi>=1.14->trio~=0.17->selenium) (2.20)\n",
      "Requirement already satisfied: wsproto>=0.14 in c:\\programdata\\anaconda3\\lib\\site-packages (from trio-websocket~=0.9->selenium) (1.1.0)\n",
      "Requirement already satisfied: PySocks!=1.5.7,<2.0,>=1.5.6 in c:\\programdata\\anaconda3\\lib\\site-packages (from urllib3[secure,socks]~=1.26->selenium) (1.7.1)\n",
      "Requirement already satisfied: pyOpenSSL>=0.14 in c:\\programdata\\anaconda3\\lib\\site-packages (from urllib3[secure,socks]~=1.26->selenium) (21.0.0)\n",
      "Requirement already satisfied: cryptography>=1.3.4 in c:\\programdata\\anaconda3\\lib\\site-packages (from urllib3[secure,socks]~=1.26->selenium) (3.4.8)\n",
      "Requirement already satisfied: certifi in c:\\programdata\\anaconda3\\lib\\site-packages (from urllib3[secure,socks]~=1.26->selenium) (2021.10.8)\n",
      "Requirement already satisfied: six>=1.5.2 in c:\\programdata\\anaconda3\\lib\\site-packages (from pyOpenSSL>=0.14->urllib3[secure,socks]~=1.26->selenium) (1.16.0)\n",
      "Requirement already satisfied: h11<1,>=0.9.0 in c:\\programdata\\anaconda3\\lib\\site-packages (from wsproto>=0.14->trio-websocket~=0.9->selenium) (0.13.0)\n"
     ]
    }
   ],
   "source": [
    "!pip install selenium"
   ]
  },
  {
   "cell_type": "code",
   "execution_count": 7,
   "id": "09cad93b",
   "metadata": {},
   "outputs": [],
   "source": [
    "import selenium\n",
    "from selenium import webdriver\n",
    "import pandas as pd\n",
    "import warnings\n",
    "warnings.filterwarnings(\"ignore\")"
   ]
  },
  {
   "cell_type": "code",
   "execution_count": 8,
   "id": "1d7c7ea2",
   "metadata": {},
   "outputs": [],
   "source": [
    "driver=webdriver.Chrome(r'C:/Users/DELL/Downloads/chromedriver_win32/chromedriver.exe')"
   ]
  },
  {
   "cell_type": "code",
   "execution_count": 9,
   "id": "61bc2c43",
   "metadata": {},
   "outputs": [],
   "source": [
    "url='https://www.naukri.com/'\n",
    "driver.get(url)"
   ]
  },
  {
   "cell_type": "code",
   "execution_count": 10,
   "id": "5d6e7d48",
   "metadata": {},
   "outputs": [
    {
     "data": {
      "text/plain": [
       "<selenium.webdriver.remote.webelement.WebElement (session=\"dad5cfc9f9a58f695ba005196895e8ee\", element=\"f17800cf-649c-4ea0-b134-d1c3e6c0e092\")>"
      ]
     },
     "execution_count": 10,
     "metadata": {},
     "output_type": "execute_result"
    }
   ],
   "source": [
    "search_job=driver.find_element_by_class_name(\"suggestor-input\")\n",
    "search_job"
   ]
  },
  {
   "cell_type": "code",
   "execution_count": 11,
   "id": "2f6ba3b3",
   "metadata": {},
   "outputs": [],
   "source": [
    "search_job.send_keys(\"Data Analyst\")"
   ]
  },
  {
   "cell_type": "code",
   "execution_count": 12,
   "id": "ca4a2b0d",
   "metadata": {},
   "outputs": [
    {
     "data": {
      "text/plain": [
       "<selenium.webdriver.remote.webelement.WebElement (session=\"dad5cfc9f9a58f695ba005196895e8ee\", element=\"b882bbf2-fd4b-4f74-b9bd-622f566b4402\")>"
      ]
     },
     "execution_count": 12,
     "metadata": {},
     "output_type": "execute_result"
    }
   ],
   "source": [
    "search_locn=driver.find_element_by_xpath('/html/body/div/div[2]/div[3]/div/div/div[3]/div/div/div/input')\n",
    "search_locn"
   ]
  },
  {
   "cell_type": "code",
   "execution_count": 13,
   "id": "32b09d4d",
   "metadata": {},
   "outputs": [],
   "source": [
    "search_locn.send_keys(\"Banglore\")"
   ]
  },
  {
   "cell_type": "code",
   "execution_count": 14,
   "id": "dcef5775",
   "metadata": {},
   "outputs": [
    {
     "data": {
      "text/plain": [
       "<selenium.webdriver.remote.webelement.WebElement (session=\"dad5cfc9f9a58f695ba005196895e8ee\", element=\"a6dadd21-a4cd-42b6-bf77-943b66995963\")>"
      ]
     },
     "execution_count": 14,
     "metadata": {},
     "output_type": "execute_result"
    }
   ],
   "source": [
    "search_btn=driver.find_element_by_xpath('/html/body/div/div[2]/div[3]/div/div/div[6]')\n",
    "search_btn"
   ]
  },
  {
   "cell_type": "code",
   "execution_count": 15,
   "id": "61b1b93c",
   "metadata": {},
   "outputs": [],
   "source": [
    "search_btn.click()"
   ]
  },
  {
   "cell_type": "code",
   "execution_count": 16,
   "id": "b42cf0e3",
   "metadata": {},
   "outputs": [
    {
     "data": {
      "text/plain": [
       "<selenium.webdriver.remote.webelement.WebElement (session=\"dad5cfc9f9a58f695ba005196895e8ee\", element=\"ab64a9cf-0b64-4563-b7b0-8f54233d3fb2\")>"
      ]
     },
     "execution_count": 16,
     "metadata": {},
     "output_type": "execute_result"
    }
   ],
   "source": [
    "salary_check=driver.find_element_by_xpath('/html/body/div[1]/div[3]/div[2]/section[1]/div[2]/div[4]/div[2]/div[1]/label/i')\n",
    "salary_check"
   ]
  },
  {
   "cell_type": "code",
   "execution_count": 17,
   "id": "e5d8d5d8",
   "metadata": {},
   "outputs": [],
   "source": [
    "salary_check.click()"
   ]
  },
  {
   "cell_type": "code",
   "execution_count": 22,
   "id": "bc7defc6",
   "metadata": {},
   "outputs": [
    {
     "data": {
      "text/plain": [
       "[<selenium.webdriver.remote.webelement.WebElement (session=\"dad5cfc9f9a58f695ba005196895e8ee\", element=\"4845d048-6790-464c-836e-74dcd9dd3958\")>,\n",
       " <selenium.webdriver.remote.webelement.WebElement (session=\"dad5cfc9f9a58f695ba005196895e8ee\", element=\"5549b025-6cec-478f-803f-6cbdd84101b9\")>,\n",
       " <selenium.webdriver.remote.webelement.WebElement (session=\"dad5cfc9f9a58f695ba005196895e8ee\", element=\"47f21744-91b8-4c5a-b5d1-ce18eb23979e\")>,\n",
       " <selenium.webdriver.remote.webelement.WebElement (session=\"dad5cfc9f9a58f695ba005196895e8ee\", element=\"d85e4087-4125-4945-bfae-20bd8118f12d\")>,\n",
       " <selenium.webdriver.remote.webelement.WebElement (session=\"dad5cfc9f9a58f695ba005196895e8ee\", element=\"f80809d1-9eba-4054-8483-865ef10124e0\")>,\n",
       " <selenium.webdriver.remote.webelement.WebElement (session=\"dad5cfc9f9a58f695ba005196895e8ee\", element=\"d657e931-0da9-4c6f-a223-4bdda8bb0647\")>,\n",
       " <selenium.webdriver.remote.webelement.WebElement (session=\"dad5cfc9f9a58f695ba005196895e8ee\", element=\"9d28c646-30df-499d-8373-0288aa64c4c1\")>,\n",
       " <selenium.webdriver.remote.webelement.WebElement (session=\"dad5cfc9f9a58f695ba005196895e8ee\", element=\"f5c47e27-5023-4a83-9985-39c5b4cf0386\")>,\n",
       " <selenium.webdriver.remote.webelement.WebElement (session=\"dad5cfc9f9a58f695ba005196895e8ee\", element=\"ba3cd7a5-e03f-435c-871d-38b8ee7b24f1\")>,\n",
       " <selenium.webdriver.remote.webelement.WebElement (session=\"dad5cfc9f9a58f695ba005196895e8ee\", element=\"214f8233-60b9-4c36-a7b3-3c675f75fbd9\")>]"
      ]
     },
     "execution_count": 22,
     "metadata": {},
     "output_type": "execute_result"
    }
   ],
   "source": [
    "title_tags=driver.find_elements_by_xpath('//a[@class=\"title fw500 ellipsis\"]')\n",
    "len(title_tags)\n",
    "title_tags[0:10]"
   ]
  },
  {
   "cell_type": "code",
   "execution_count": 24,
   "id": "17b71a8a",
   "metadata": {},
   "outputs": [
    {
     "data": {
      "text/plain": [
       "['Video Data Analyst',\n",
       " 'Hiring For Data Analyst from 1 yr of exp in Bangalore Location',\n",
       " 'Data Research Analyst',\n",
       " 'Data Analyst',\n",
       " 'Data Analyst',\n",
       " 'Data Analyst | MIS Executive | Operations Executive/ Escalation Desk.',\n",
       " 'Genpact is hiring For Java Angular - Data engineer / Analyst Role',\n",
       " 'Financial Data Analyst',\n",
       " 'Senior Marketing Data Analyst',\n",
       " 'Data Analyst (Python/Power BI, SQL, Advance Execel, Macros)']"
      ]
     },
     "execution_count": 24,
     "metadata": {},
     "output_type": "execute_result"
    }
   ],
   "source": [
    "job_titles=[]\n",
    "\n",
    "for i in title_tags:\n",
    "    job_titles.append(i.text)\n",
    "    \n",
    "len(job_titles)\n",
    "job_titles[0:10]"
   ]
  },
  {
   "cell_type": "code",
   "execution_count": 30,
   "id": "416072f2",
   "metadata": {},
   "outputs": [
    {
     "data": {
      "text/plain": [
       "[<selenium.webdriver.remote.webelement.WebElement (session=\"dad5cfc9f9a58f695ba005196895e8ee\", element=\"dfd69257-06ba-4ecc-a84d-8c6f20357494\")>,\n",
       " <selenium.webdriver.remote.webelement.WebElement (session=\"dad5cfc9f9a58f695ba005196895e8ee\", element=\"d7e6d8e5-a4bc-4c38-9884-c74683e46e56\")>,\n",
       " <selenium.webdriver.remote.webelement.WebElement (session=\"dad5cfc9f9a58f695ba005196895e8ee\", element=\"c0cff0fe-cb50-4c56-b4b5-88547e83192b\")>,\n",
       " <selenium.webdriver.remote.webelement.WebElement (session=\"dad5cfc9f9a58f695ba005196895e8ee\", element=\"5e1be6af-6968-4c0e-9aee-2129c15294b9\")>,\n",
       " <selenium.webdriver.remote.webelement.WebElement (session=\"dad5cfc9f9a58f695ba005196895e8ee\", element=\"df58f1f3-5200-4988-8964-b860d3f86cfa\")>,\n",
       " <selenium.webdriver.remote.webelement.WebElement (session=\"dad5cfc9f9a58f695ba005196895e8ee\", element=\"0971d463-386d-499a-a7b1-82614f52086c\")>,\n",
       " <selenium.webdriver.remote.webelement.WebElement (session=\"dad5cfc9f9a58f695ba005196895e8ee\", element=\"613c94a6-da72-4cf7-9955-cc0d639b4108\")>,\n",
       " <selenium.webdriver.remote.webelement.WebElement (session=\"dad5cfc9f9a58f695ba005196895e8ee\", element=\"d83f23b9-f55f-4a43-973f-e33495da4f5c\")>,\n",
       " <selenium.webdriver.remote.webelement.WebElement (session=\"dad5cfc9f9a58f695ba005196895e8ee\", element=\"7b9766d2-8e10-49c2-bfbc-395b041bfda0\")>,\n",
       " <selenium.webdriver.remote.webelement.WebElement (session=\"dad5cfc9f9a58f695ba005196895e8ee\", element=\"9d753967-1b7f-4303-94f6-99e861e757ec\")>]"
      ]
     },
     "execution_count": 30,
     "metadata": {},
     "output_type": "execute_result"
    }
   ],
   "source": [
    "company_tags=driver.find_elements_by_xpath('//a[@class=\"subTitle ellipsis fleft\"]')\n",
    "company_tags[:10]"
   ]
  },
  {
   "cell_type": "code",
   "execution_count": 32,
   "id": "01af1964",
   "metadata": {},
   "outputs": [
    {
     "data": {
      "text/plain": [
       "['Arivon Technologies',\n",
       " 'PROMANTUS INDIA PRIVATE LIMITED',\n",
       " 'FUTURES AND CAREERS',\n",
       " 'Equitas Small Finance Bank',\n",
       " 'Equitas Small Finance Bank',\n",
       " 'Sanctus HR',\n",
       " 'Genpact',\n",
       " \"Moody's\",\n",
       " 'Tide Software',\n",
       " 'Innovsource services Private Limited',\n",
       " 'Black and White Business Solutions Pvt Ltd',\n",
       " 'Innovsource services Private Limited',\n",
       " 'Black and White Business Solutions Pvt Ltd',\n",
       " 'ERM Placement Services (P) Ltd.',\n",
       " 'Adecco India Private Limited',\n",
       " 'Flipkart',\n",
       " 'Tide Software',\n",
       " 'Heart It Out',\n",
       " 'St. John’s Research Institute',\n",
       " 'flocareer.com']"
      ]
     },
     "execution_count": 32,
     "metadata": {},
     "output_type": "execute_result"
    }
   ],
   "source": [
    "company_names= []\n",
    "for i in company_tags:\n",
    "    company_names.append(i.text)\n",
    "    \n",
    "company_names"
   ]
  },
  {
   "cell_type": "code",
   "execution_count": 33,
   "id": "ced36615",
   "metadata": {},
   "outputs": [
    {
     "data": {
      "text/plain": [
       "['Arivon Technologies',\n",
       " 'PROMANTUS INDIA PRIVATE LIMITED',\n",
       " 'FUTURES AND CAREERS',\n",
       " 'Equitas Small Finance Bank',\n",
       " 'Equitas Small Finance Bank',\n",
       " 'Sanctus HR',\n",
       " 'Genpact',\n",
       " \"Moody's\",\n",
       " 'Tide Software',\n",
       " 'Innovsource services Private Limited']"
      ]
     },
     "execution_count": 33,
     "metadata": {},
     "output_type": "execute_result"
    }
   ],
   "source": [
    "company_names[:10]"
   ]
  },
  {
   "cell_type": "code",
   "execution_count": 34,
   "id": "9f5dc0e8",
   "metadata": {},
   "outputs": [
    {
     "data": {
      "text/plain": [
       "18"
      ]
     },
     "execution_count": 34,
     "metadata": {},
     "output_type": "execute_result"
    }
   ],
   "source": [
    "exp_tags=driver.find_elements_by_xpath('//li[@class=\"fleft grey-text br2 placeHolderLi experience\"]')\n",
    "len(exp_tags)"
   ]
  },
  {
   "cell_type": "code",
   "execution_count": 36,
   "id": "d9b0bcdb",
   "metadata": {},
   "outputs": [
    {
     "data": {
      "text/plain": [
       "['1-5 Yrs',\n",
       " '0-2 Yrs',\n",
       " '1-5 Yrs',\n",
       " '1-5 Yrs',\n",
       " '1-4 Yrs',\n",
       " '4-9 Yrs',\n",
       " '1-3 Yrs',\n",
       " '0-4 Yrs',\n",
       " '1-6 Yrs',\n",
       " '1-1 Yrs']"
      ]
     },
     "execution_count": 36,
     "metadata": {},
     "output_type": "execute_result"
    }
   ],
   "source": [
    "experience=[]\n",
    "for i in exp_tags:\n",
    "    experience.append(i.text)\n",
    "    \n",
    "experience[:10]"
   ]
  },
  {
   "cell_type": "code",
   "execution_count": 37,
   "id": "6008ef08",
   "metadata": {},
   "outputs": [
    {
     "data": {
      "text/plain": [
       "20"
      ]
     },
     "execution_count": 37,
     "metadata": {},
     "output_type": "execute_result"
    }
   ],
   "source": [
    "locn_tags=driver.find_elements_by_xpath('//li[@class=\"fleft grey-text br2 placeHolderLi location\"]')\n",
    "len(locn_tags)"
   ]
  },
  {
   "cell_type": "code",
   "execution_count": 38,
   "id": "6f2615b7",
   "metadata": {},
   "outputs": [
    {
     "data": {
      "text/plain": [
       "['Bangalore/Bengaluru',\n",
       " 'Chennai, Bangalore/Bengaluru',\n",
       " 'Bangalore/Bengaluru',\n",
       " 'Bangalore/Bengaluru',\n",
       " 'Bangalore/Bengaluru',\n",
       " 'Bangalore/Bengaluru(Electronic City +4)',\n",
       " 'Hyderabad/Secunderabad, Pune, Bangalore/Bengaluru',\n",
       " 'Bangalore/Bengaluru',\n",
       " 'Bangalore/Bengaluru',\n",
       " 'Bangalore/Bengaluru']"
      ]
     },
     "execution_count": 38,
     "metadata": {},
     "output_type": "execute_result"
    }
   ],
   "source": [
    "location=[]\n",
    "for i in locn_tags:\n",
    "    location.append(i.text)\n",
    "    \n",
    "location[:10]"
   ]
  },
  {
   "cell_type": "code",
   "execution_count": 39,
   "id": "f10cf67a",
   "metadata": {},
   "outputs": [
    {
     "data": {
      "text/plain": [
       "(20, 20, 18, 20)"
      ]
     },
     "execution_count": 39,
     "metadata": {},
     "output_type": "execute_result"
    }
   ],
   "source": [
    "len(job_titles),len(company_names), len(experience),len(location)"
   ]
  },
  {
   "cell_type": "code",
   "execution_count": 41,
   "id": "ed5213b3",
   "metadata": {},
   "outputs": [
    {
     "data": {
      "text/html": [
       "<div>\n",
       "<style scoped>\n",
       "    .dataframe tbody tr th:only-of-type {\n",
       "        vertical-align: middle;\n",
       "    }\n",
       "\n",
       "    .dataframe tbody tr th {\n",
       "        vertical-align: top;\n",
       "    }\n",
       "\n",
       "    .dataframe thead th {\n",
       "        text-align: right;\n",
       "    }\n",
       "</style>\n",
       "<table border=\"1\" class=\"dataframe\">\n",
       "  <thead>\n",
       "    <tr style=\"text-align: right;\">\n",
       "      <th></th>\n",
       "      <th>Job Title</th>\n",
       "      <th>Company</th>\n",
       "      <th>Experience</th>\n",
       "      <th>Location</th>\n",
       "    </tr>\n",
       "  </thead>\n",
       "  <tbody>\n",
       "    <tr>\n",
       "      <th>0</th>\n",
       "      <td>Video Data Analyst</td>\n",
       "      <td>Arivon Technologies</td>\n",
       "      <td>1-5 Yrs</td>\n",
       "      <td>Bangalore/Bengaluru</td>\n",
       "    </tr>\n",
       "    <tr>\n",
       "      <th>1</th>\n",
       "      <td>Hiring For Data Analyst from 1 yr of exp in Ba...</td>\n",
       "      <td>PROMANTUS INDIA PRIVATE LIMITED</td>\n",
       "      <td>0-2 Yrs</td>\n",
       "      <td>Chennai, Bangalore/Bengaluru</td>\n",
       "    </tr>\n",
       "    <tr>\n",
       "      <th>2</th>\n",
       "      <td>Data Research Analyst</td>\n",
       "      <td>FUTURES AND CAREERS</td>\n",
       "      <td>1-5 Yrs</td>\n",
       "      <td>Bangalore/Bengaluru</td>\n",
       "    </tr>\n",
       "    <tr>\n",
       "      <th>3</th>\n",
       "      <td>Data Analyst</td>\n",
       "      <td>Equitas Small Finance Bank</td>\n",
       "      <td>1-5 Yrs</td>\n",
       "      <td>Bangalore/Bengaluru</td>\n",
       "    </tr>\n",
       "    <tr>\n",
       "      <th>4</th>\n",
       "      <td>Data Analyst</td>\n",
       "      <td>Equitas Small Finance Bank</td>\n",
       "      <td>1-4 Yrs</td>\n",
       "      <td>Bangalore/Bengaluru</td>\n",
       "    </tr>\n",
       "    <tr>\n",
       "      <th>5</th>\n",
       "      <td>Data Analyst | MIS Executive | Operations Exec...</td>\n",
       "      <td>Sanctus HR</td>\n",
       "      <td>4-9 Yrs</td>\n",
       "      <td>Bangalore/Bengaluru(Electronic City +4)</td>\n",
       "    </tr>\n",
       "    <tr>\n",
       "      <th>6</th>\n",
       "      <td>Genpact is hiring For Java Angular - Data engi...</td>\n",
       "      <td>Genpact</td>\n",
       "      <td>1-3 Yrs</td>\n",
       "      <td>Hyderabad/Secunderabad, Pune, Bangalore/Bengaluru</td>\n",
       "    </tr>\n",
       "    <tr>\n",
       "      <th>7</th>\n",
       "      <td>Financial Data Analyst</td>\n",
       "      <td>Moody's</td>\n",
       "      <td>0-4 Yrs</td>\n",
       "      <td>Bangalore/Bengaluru</td>\n",
       "    </tr>\n",
       "    <tr>\n",
       "      <th>8</th>\n",
       "      <td>Senior Marketing Data Analyst</td>\n",
       "      <td>Tide Software</td>\n",
       "      <td>1-6 Yrs</td>\n",
       "      <td>Bangalore/Bengaluru</td>\n",
       "    </tr>\n",
       "    <tr>\n",
       "      <th>9</th>\n",
       "      <td>Data Analyst (Python/Power BI, SQL, Advance Ex...</td>\n",
       "      <td>Innovsource services Private Limited</td>\n",
       "      <td>1-1 Yrs</td>\n",
       "      <td>Bangalore/Bengaluru</td>\n",
       "    </tr>\n",
       "  </tbody>\n",
       "</table>\n",
       "</div>"
      ],
      "text/plain": [
       "                                           Job Title  \\\n",
       "0                                 Video Data Analyst   \n",
       "1  Hiring For Data Analyst from 1 yr of exp in Ba...   \n",
       "2                              Data Research Analyst   \n",
       "3                                       Data Analyst   \n",
       "4                                       Data Analyst   \n",
       "5  Data Analyst | MIS Executive | Operations Exec...   \n",
       "6  Genpact is hiring For Java Angular - Data engi...   \n",
       "7                             Financial Data Analyst   \n",
       "8                      Senior Marketing Data Analyst   \n",
       "9  Data Analyst (Python/Power BI, SQL, Advance Ex...   \n",
       "\n",
       "                                Company Experience  \\\n",
       "0                   Arivon Technologies    1-5 Yrs   \n",
       "1       PROMANTUS INDIA PRIVATE LIMITED    0-2 Yrs   \n",
       "2                   FUTURES AND CAREERS    1-5 Yrs   \n",
       "3            Equitas Small Finance Bank    1-5 Yrs   \n",
       "4            Equitas Small Finance Bank    1-4 Yrs   \n",
       "5                            Sanctus HR    4-9 Yrs   \n",
       "6                               Genpact    1-3 Yrs   \n",
       "7                               Moody's    0-4 Yrs   \n",
       "8                         Tide Software    1-6 Yrs   \n",
       "9  Innovsource services Private Limited    1-1 Yrs   \n",
       "\n",
       "                                            Location  \n",
       "0                                Bangalore/Bengaluru  \n",
       "1                       Chennai, Bangalore/Bengaluru  \n",
       "2                                Bangalore/Bengaluru  \n",
       "3                                Bangalore/Bengaluru  \n",
       "4                                Bangalore/Bengaluru  \n",
       "5            Bangalore/Bengaluru(Electronic City +4)  \n",
       "6  Hyderabad/Secunderabad, Pune, Bangalore/Bengaluru  \n",
       "7                                Bangalore/Bengaluru  \n",
       "8                                Bangalore/Bengaluru  \n",
       "9                                Bangalore/Bengaluru  "
      ]
     },
     "execution_count": 41,
     "metadata": {},
     "output_type": "execute_result"
    }
   ],
   "source": [
    "jobs= pd.DataFrame()\n",
    "jobs['Job Title']=job_titles[:10]\n",
    "jobs['Company']=company_names[:10]\n",
    "jobs['Experience']=experience[:10]\n",
    "jobs['Location']=location[:10]\n",
    "jobs"
   ]
  },
  {
   "cell_type": "code",
   "execution_count": 42,
   "id": "1db93266",
   "metadata": {},
   "outputs": [],
   "source": [
    "jobs.to_csv(\"Data Analyst_Naukri.com.csv\")"
   ]
  },
  {
   "cell_type": "code",
   "execution_count": 43,
   "id": "f21bed5c",
   "metadata": {},
   "outputs": [],
   "source": [
    "driver.close()"
   ]
  },
  {
   "cell_type": "code",
   "execution_count": null,
   "id": "007820d1",
   "metadata": {},
   "outputs": [],
   "source": []
  }
 ],
 "metadata": {
  "kernelspec": {
   "display_name": "Python 3 (ipykernel)",
   "language": "python",
   "name": "python3"
  },
  "language_info": {
   "codemirror_mode": {
    "name": "ipython",
    "version": 3
   },
   "file_extension": ".py",
   "mimetype": "text/x-python",
   "name": "python",
   "nbconvert_exporter": "python",
   "pygments_lexer": "ipython3",
   "version": "3.9.7"
  }
 },
 "nbformat": 4,
 "nbformat_minor": 5
}
