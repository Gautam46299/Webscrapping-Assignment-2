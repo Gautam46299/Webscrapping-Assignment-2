{
 "cells": [
  {
   "cell_type": "markdown",
   "id": "176f5bad",
   "metadata": {},
   "source": [
    "# ASSIGNMENT-2"
   ]
  },
  {
   "cell_type": "markdown",
   "id": "b70dff46",
   "metadata": {},
   "source": [
    "## ANS-8"
   ]
  },
  {
   "cell_type": "markdown",
   "id": "d130175e",
   "metadata": {},
   "source": [
    "I WAS UNABLE TO GET I9 PROCESSOR LAPTOPS AND REVIEWS"
   ]
  },
  {
   "cell_type": "code",
   "execution_count": 3,
   "id": "35614e19",
   "metadata": {},
   "outputs": [],
   "source": [
    "import selenium\n",
    "import pandas as pd\n",
    "from selenium import webdriver\n",
    "import warnings\n",
    "warnings.filterwarnings(\"ignore\")"
   ]
  },
  {
   "cell_type": "code",
   "execution_count": 4,
   "id": "1f88d891",
   "metadata": {},
   "outputs": [],
   "source": [
    "driver=webdriver.Chrome(r'C:/Users/DELL/Downloads/chromedriver_win32/chromedriver.exe')"
   ]
  },
  {
   "cell_type": "code",
   "execution_count": 5,
   "id": "0d327cbe",
   "metadata": {},
   "outputs": [],
   "source": [
    "url='https://www.amazon.in'\n",
    "driver.get(url)"
   ]
  },
  {
   "cell_type": "code",
   "execution_count": 24,
   "id": "3337a6cb",
   "metadata": {},
   "outputs": [
    {
     "data": {
      "text/plain": [
       "<selenium.webdriver.remote.webelement.WebElement (session=\"2ff6419df7a895e95948b401015ce95d\", element=\"6f9bb55d-be8c-450a-9a7f-f2eec37d4233\")>"
      ]
     },
     "execution_count": 24,
     "metadata": {},
     "output_type": "execute_result"
    }
   ],
   "source": [
    "search_laptops=driver.find_element_by_id(\"twotabsearchtextbox\")\n",
    "search_laptops"
   ]
  },
  {
   "cell_type": "code",
   "execution_count": 25,
   "id": "cc111555",
   "metadata": {},
   "outputs": [],
   "source": [
    "search_laptops.send_keys(\"Laptops\")"
   ]
  },
  {
   "cell_type": "code",
   "execution_count": 27,
   "id": "7ee81170",
   "metadata": {},
   "outputs": [
    {
     "data": {
      "text/plain": [
       "<selenium.webdriver.remote.webelement.WebElement (session=\"2ff6419df7a895e95948b401015ce95d\", element=\"f7a066df-59ca-4039-865d-cccccafba9b0\")>"
      ]
     },
     "execution_count": 27,
     "metadata": {},
     "output_type": "execute_result"
    }
   ],
   "source": [
    "search_btn=driver.find_element_by_xpath(\"/html/body/div[1]/header/div/div[1]/div[2]/div/form/div[3]\")\n",
    "search_btn"
   ]
  },
  {
   "cell_type": "code",
   "execution_count": 28,
   "id": "330e556c",
   "metadata": {},
   "outputs": [],
   "source": [
    "search_btn.click()"
   ]
  },
  {
   "cell_type": "code",
   "execution_count": 31,
   "id": "2275e979",
   "metadata": {},
   "outputs": [
    {
     "data": {
      "text/plain": [
       "<selenium.webdriver.remote.webelement.WebElement (session=\"2ff6419df7a895e95948b401015ce95d\", element=\"5e35966d-d1ac-4ec0-b2ea-bdbc26c40b9c\")>"
      ]
     },
     "execution_count": 31,
     "metadata": {},
     "output_type": "execute_result"
    }
   ],
   "source": [
    "cpu_i7=driver.find_element_by_xpath('/html/body/div[1]/div[2]/div[1]/div[2]/div/div[3]/span/div[1]/div/div/div[6]/ul[4]/li[12]/span/a/div')\n",
    "cpu_i7"
   ]
  },
  {
   "cell_type": "code",
   "execution_count": 32,
   "id": "b5226023",
   "metadata": {},
   "outputs": [],
   "source": [
    "cpu_i7.click()"
   ]
  },
  {
   "cell_type": "code",
   "execution_count": 34,
   "id": "9c49fb7a",
   "metadata": {},
   "outputs": [
    {
     "data": {
      "text/plain": [
       "[<selenium.webdriver.remote.webelement.WebElement (session=\"2ff6419df7a895e95948b401015ce95d\", element=\"c0376dee-f722-4d6c-8d38-5ac8ab03e020\")>,\n",
       " <selenium.webdriver.remote.webelement.WebElement (session=\"2ff6419df7a895e95948b401015ce95d\", element=\"b50582f3-81ef-4c60-8746-b099b6ee9a11\")>,\n",
       " <selenium.webdriver.remote.webelement.WebElement (session=\"2ff6419df7a895e95948b401015ce95d\", element=\"2a29d6c5-c571-487e-a340-174301acfc94\")>,\n",
       " <selenium.webdriver.remote.webelement.WebElement (session=\"2ff6419df7a895e95948b401015ce95d\", element=\"8b186027-44ee-4c98-94b7-4bf32af35e0a\")>,\n",
       " <selenium.webdriver.remote.webelement.WebElement (session=\"2ff6419df7a895e95948b401015ce95d\", element=\"74b0829e-dd0b-408f-9d54-b15779efc27c\")>,\n",
       " <selenium.webdriver.remote.webelement.WebElement (session=\"2ff6419df7a895e95948b401015ce95d\", element=\"9fd55e3f-505d-4941-876e-7fe1e2dca51b\")>,\n",
       " <selenium.webdriver.remote.webelement.WebElement (session=\"2ff6419df7a895e95948b401015ce95d\", element=\"2b45e8cc-e85a-4bb1-a065-21a9ce02bb33\")>,\n",
       " <selenium.webdriver.remote.webelement.WebElement (session=\"2ff6419df7a895e95948b401015ce95d\", element=\"7b19c4b4-9eae-49e8-ae1a-7f32e913887c\")>,\n",
       " <selenium.webdriver.remote.webelement.WebElement (session=\"2ff6419df7a895e95948b401015ce95d\", element=\"324a4771-29f9-4453-b051-fe5343913853\")>,\n",
       " <selenium.webdriver.remote.webelement.WebElement (session=\"2ff6419df7a895e95948b401015ce95d\", element=\"a1f3bbac-f499-4da9-a3d6-60624e92a7cb\")>,\n",
       " <selenium.webdriver.remote.webelement.WebElement (session=\"2ff6419df7a895e95948b401015ce95d\", element=\"5f9700e5-f8ed-44cc-831c-4936f2e0a5e1\")>,\n",
       " <selenium.webdriver.remote.webelement.WebElement (session=\"2ff6419df7a895e95948b401015ce95d\", element=\"8e9664a2-0fe3-4662-88f3-119684258080\")>,\n",
       " <selenium.webdriver.remote.webelement.WebElement (session=\"2ff6419df7a895e95948b401015ce95d\", element=\"84c02bc3-3274-40e0-ac8e-562607cbdecc\")>,\n",
       " <selenium.webdriver.remote.webelement.WebElement (session=\"2ff6419df7a895e95948b401015ce95d\", element=\"eb14a985-21e0-4eb9-b19b-db20e9fa54b8\")>,\n",
       " <selenium.webdriver.remote.webelement.WebElement (session=\"2ff6419df7a895e95948b401015ce95d\", element=\"bd9f61e4-f23f-4b04-9be3-2941c71beecf\")>,\n",
       " <selenium.webdriver.remote.webelement.WebElement (session=\"2ff6419df7a895e95948b401015ce95d\", element=\"56dab7d2-45c3-4680-8242-a3e93d133222\")>,\n",
       " <selenium.webdriver.remote.webelement.WebElement (session=\"2ff6419df7a895e95948b401015ce95d\", element=\"ed768457-9eca-4f9e-a479-7af5dd98b410\")>,\n",
       " <selenium.webdriver.remote.webelement.WebElement (session=\"2ff6419df7a895e95948b401015ce95d\", element=\"571604f4-50d7-4605-9ba7-8931443477b9\")>,\n",
       " <selenium.webdriver.remote.webelement.WebElement (session=\"2ff6419df7a895e95948b401015ce95d\", element=\"688b5c27-fae8-4d57-8e66-0a35e190887b\")>,\n",
       " <selenium.webdriver.remote.webelement.WebElement (session=\"2ff6419df7a895e95948b401015ce95d\", element=\"6aba895e-7ab4-4462-98c0-7fc105042f2e\")>,\n",
       " <selenium.webdriver.remote.webelement.WebElement (session=\"2ff6419df7a895e95948b401015ce95d\", element=\"5197afbf-a429-436f-8610-e477c0e5d565\")>,\n",
       " <selenium.webdriver.remote.webelement.WebElement (session=\"2ff6419df7a895e95948b401015ce95d\", element=\"f8252585-8923-4820-80e5-ae67a8787b3f\")>,\n",
       " <selenium.webdriver.remote.webelement.WebElement (session=\"2ff6419df7a895e95948b401015ce95d\", element=\"81b245e4-8ecc-4279-bef2-7cd06924f8d6\")>,\n",
       " <selenium.webdriver.remote.webelement.WebElement (session=\"2ff6419df7a895e95948b401015ce95d\", element=\"031f334f-6850-445a-8666-2efa2df298d3\")>,\n",
       " <selenium.webdriver.remote.webelement.WebElement (session=\"2ff6419df7a895e95948b401015ce95d\", element=\"7393a34f-39c0-4919-a906-7947ece7e272\")>,\n",
       " <selenium.webdriver.remote.webelement.WebElement (session=\"2ff6419df7a895e95948b401015ce95d\", element=\"d6f73425-340d-4b57-95e5-3d36992799ee\")>,\n",
       " <selenium.webdriver.remote.webelement.WebElement (session=\"2ff6419df7a895e95948b401015ce95d\", element=\"fcfcbcff-895d-4440-ac47-aa1d07d22768\")>,\n",
       " <selenium.webdriver.remote.webelement.WebElement (session=\"2ff6419df7a895e95948b401015ce95d\", element=\"73a75ac1-b694-4676-9e4b-65690e9d9796\")>,\n",
       " <selenium.webdriver.remote.webelement.WebElement (session=\"2ff6419df7a895e95948b401015ce95d\", element=\"c3dc05fd-4a2c-41dd-814d-f3f98f412c20\")>,\n",
       " <selenium.webdriver.remote.webelement.WebElement (session=\"2ff6419df7a895e95948b401015ce95d\", element=\"899670b9-7241-4d6a-9083-ba26a443e89a\")>]"
      ]
     },
     "execution_count": 34,
     "metadata": {},
     "output_type": "execute_result"
    }
   ],
   "source": [
    "title=driver.find_elements_by_xpath(\"//div[@class='a-section a-spacing-none s-padding-right-small s-title-instructions-style']\")\n",
    "title"
   ]
  },
  {
   "cell_type": "code",
   "execution_count": 35,
   "id": "8505e85f",
   "metadata": {},
   "outputs": [
    {
     "data": {
      "text/plain": [
       "['Sponsored\\nLG Gram 14 inches Ultra-Light Intel Evo 11th Gen Core i7 Laptop (16 GB RAM, 512 GB SSD, New Windows 11 Home Preload, Iris Xe Graphics, USC -C x 2 (with Power), 0.999Kg, (14Z90P-G.AH85A2, Black)',\n",
       " 'Sponsored\\nLG Gram Intel Evo 11th Gen Core i7 17 inches Ultra-Light Laptop (16 GB RAM, 512 GB SSD, New Windows 11 Home Preload, Iris Xe Graphics, USC -C x 2 (with Power), 1.35 kg, 17Z90P-G.AH85A2, Black)',\n",
       " 'ASUS VivoBook 14 (2021), 14-inch (35.56 cms) FHD, Intel Core i7-1065G7 10th Gen, Thin and Light Laptop (16GB/512GB SSD/Integrated Graphics/Office 2021/Windows 11/Silver/1.6 Kg), X415JA-EK701WS',\n",
       " 'Mi Notebook Ultra 3.2K Resolution Display Intel Core i7-11370H 11th Gen 15.6-inch(39.62 cm) Thin and Light Laptop (16GB/512GB SSD/Iris Xe Graphic/Win 10/MS Office/Backlit KB/Fingerprint Sensor/1.7Kg)',\n",
       " 'ASUS TUF Gaming F15 (2021), 15.6\" (39.62 cms) FHD 144Hz, Intel Core i7-11600H 11th Gen, 4GB RTX 3050 Graphics, Gaming Laptop (16GB/512GB SSD/Windows 10/Office 2019/Gray/2.3 Kg), FX566HCB-HN299TS',\n",
       " 'LG Gram 16 inches Intel Evo 11th Gen Core i7 Ultra-Light Laptop (16 GB RAM, 512 GB SSD, New Windows 11 Home Preload, Iris Xe Graphics, USC -C x 2 (with Power), 1.19 kg, 16Z90P-G.AH85A2, Black)',\n",
       " 'ASUS ZenBook 13 OLED (2021) Intel Core i7-1165G7 11th Gen 14\" (35.56cms) FHD Thin and Light Laptop (16GB/512GB SSD/Windows 10/Office 2019/Intel Iris Xᵉ Graphics/Pine Grey/1.14 kg), UX325EA-KG722TS',\n",
       " 'LG Gram Intel Evo 11th Gen Core i7 17 inches Ultra-Light Laptop (16 GB RAM, 512 GB SSD, New Windows 11 Home Preload, Iris Xe Graphics, USC -C x 2 (with Power), 1.35 kg, 17Z90P-G.AH85A2, Black)',\n",
       " 'HP Pavilion x360 11th Gen Intel Core i7 14 inches FHD, IPS, Convertible Laptop (16 GB RAM/512GB SSD, B&O/Win 11 Home/Backlit keyboard/FPR/ Alexa-Built in/MS Office/Natural Silver/1.52 Kg) -14-dy1013TU',\n",
       " 'ASUS TUF Dash F15 (2021) 15.6-inch (39.62 cms) FHD 144Hz, Intel Core i7-11370H 11th Gen, RTX 3050 Ti 4GB Graphics, Gaming Laptop (16GB/1TB SSD/Office 2019/Windows 10/Gray/2 Kg), FX516PEZ-HN105TS']"
      ]
     },
     "execution_count": 35,
     "metadata": {},
     "output_type": "execute_result"
    }
   ],
   "source": [
    "prod_title=[] \n",
    "\n",
    "for i in title[:10]:\n",
    "    prod_title.append(i.text)\n",
    "prod_title    "
   ]
  },
  {
   "cell_type": "code",
   "execution_count": 46,
   "id": "325aac54",
   "metadata": {},
   "outputs": [
    {
     "data": {
      "text/plain": [
       "[<selenium.webdriver.remote.webelement.WebElement (session=\"2ff6419df7a895e95948b401015ce95d\", element=\"1f9a1250-fe7b-47ee-ab0b-076ca1da41b3\")>,\n",
       " <selenium.webdriver.remote.webelement.WebElement (session=\"2ff6419df7a895e95948b401015ce95d\", element=\"97e96a5f-7a6b-40a0-92cc-9fa31e5cfa5a\")>,\n",
       " <selenium.webdriver.remote.webelement.WebElement (session=\"2ff6419df7a895e95948b401015ce95d\", element=\"ef38c758-9799-4130-87f0-cb553e9a1d86\")>,\n",
       " <selenium.webdriver.remote.webelement.WebElement (session=\"2ff6419df7a895e95948b401015ce95d\", element=\"b113f835-fe24-4aed-85f5-7836cf97eb8f\")>,\n",
       " <selenium.webdriver.remote.webelement.WebElement (session=\"2ff6419df7a895e95948b401015ce95d\", element=\"485b4dc2-a9cb-427f-845d-5c962a6319e3\")>,\n",
       " <selenium.webdriver.remote.webelement.WebElement (session=\"2ff6419df7a895e95948b401015ce95d\", element=\"a33d0f3b-0201-44c9-8578-b08b37b80d41\")>,\n",
       " <selenium.webdriver.remote.webelement.WebElement (session=\"2ff6419df7a895e95948b401015ce95d\", element=\"60bfc9d5-8b53-4bf6-90fc-6443525c681a\")>,\n",
       " <selenium.webdriver.remote.webelement.WebElement (session=\"2ff6419df7a895e95948b401015ce95d\", element=\"fb77057c-fb11-4cdd-86c3-539db478efec\")>,\n",
       " <selenium.webdriver.remote.webelement.WebElement (session=\"2ff6419df7a895e95948b401015ce95d\", element=\"a46558b9-4d9b-45b6-9e38-0ab6cb61b50d\")>,\n",
       " <selenium.webdriver.remote.webelement.WebElement (session=\"2ff6419df7a895e95948b401015ce95d\", element=\"d746ac3d-e8ae-4701-bbb8-28166cdf35ad\")>,\n",
       " <selenium.webdriver.remote.webelement.WebElement (session=\"2ff6419df7a895e95948b401015ce95d\", element=\"5a8f4a79-7274-4d71-93f2-83d9e8d1aec8\")>,\n",
       " <selenium.webdriver.remote.webelement.WebElement (session=\"2ff6419df7a895e95948b401015ce95d\", element=\"4c27bcc9-e8e2-4696-889c-f937f1626928\")>]"
      ]
     },
     "execution_count": 46,
     "metadata": {},
     "output_type": "execute_result"
    }
   ],
   "source": [
    "ratings=driver.find_elements_by_xpath(\"//i[@class='a-icon a-icon-star-small a-star-small-4-5 aok-align-bottom']\")\n",
    "ratings"
   ]
  },
  {
   "cell_type": "code",
   "execution_count": 47,
   "id": "67c98660",
   "metadata": {},
   "outputs": [
    {
     "data": {
      "text/plain": [
       "['', '', '', '', '', '', '', '', '', '']"
      ]
     },
     "execution_count": 47,
     "metadata": {},
     "output_type": "execute_result"
    }
   ],
   "source": [
    "Ratings=[]\n",
    "for i in ratings[:10]:\n",
    "    Ratings.append(i.text)\n",
    "    \n",
    "Ratings\n"
   ]
  },
  {
   "cell_type": "code",
   "execution_count": 37,
   "id": "c32f6c1d",
   "metadata": {},
   "outputs": [
    {
     "data": {
      "text/plain": [
       "[<selenium.webdriver.remote.webelement.WebElement (session=\"2ff6419df7a895e95948b401015ce95d\", element=\"3935466c-b80d-4717-80eb-7375aaf1345e\")>,\n",
       " <selenium.webdriver.remote.webelement.WebElement (session=\"2ff6419df7a895e95948b401015ce95d\", element=\"d8e6fe58-8261-4d8c-a6bb-199b5436fff9\")>,\n",
       " <selenium.webdriver.remote.webelement.WebElement (session=\"2ff6419df7a895e95948b401015ce95d\", element=\"b2684a8e-bc74-4767-af43-5bc57e31e134\")>,\n",
       " <selenium.webdriver.remote.webelement.WebElement (session=\"2ff6419df7a895e95948b401015ce95d\", element=\"20c7565f-880a-44ef-82cf-363e38402b33\")>,\n",
       " <selenium.webdriver.remote.webelement.WebElement (session=\"2ff6419df7a895e95948b401015ce95d\", element=\"69ea8496-b2b1-4ef5-b1ef-30a465456564\")>,\n",
       " <selenium.webdriver.remote.webelement.WebElement (session=\"2ff6419df7a895e95948b401015ce95d\", element=\"5891be6c-a367-4705-aa71-99f470994380\")>,\n",
       " <selenium.webdriver.remote.webelement.WebElement (session=\"2ff6419df7a895e95948b401015ce95d\", element=\"599f644e-50be-4cea-8016-30c3045c5888\")>,\n",
       " <selenium.webdriver.remote.webelement.WebElement (session=\"2ff6419df7a895e95948b401015ce95d\", element=\"faf95677-b603-46fc-b384-54985cbd70e9\")>,\n",
       " <selenium.webdriver.remote.webelement.WebElement (session=\"2ff6419df7a895e95948b401015ce95d\", element=\"af179f4b-93a0-40a0-b737-0d7ccf48bf49\")>,\n",
       " <selenium.webdriver.remote.webelement.WebElement (session=\"2ff6419df7a895e95948b401015ce95d\", element=\"6876adc5-d2ef-4dd9-9ad1-e02ddc5c75a4\")>,\n",
       " <selenium.webdriver.remote.webelement.WebElement (session=\"2ff6419df7a895e95948b401015ce95d\", element=\"473cff4e-6d9f-44c7-8eff-ab277d083aa4\")>,\n",
       " <selenium.webdriver.remote.webelement.WebElement (session=\"2ff6419df7a895e95948b401015ce95d\", element=\"742539ae-50a0-4536-9864-2cc83eaad0a7\")>,\n",
       " <selenium.webdriver.remote.webelement.WebElement (session=\"2ff6419df7a895e95948b401015ce95d\", element=\"fa4600b5-553a-4136-9b96-7ea4715e0825\")>,\n",
       " <selenium.webdriver.remote.webelement.WebElement (session=\"2ff6419df7a895e95948b401015ce95d\", element=\"12ee1636-fcef-48bd-a969-c32677ccdc39\")>,\n",
       " <selenium.webdriver.remote.webelement.WebElement (session=\"2ff6419df7a895e95948b401015ce95d\", element=\"26dfa71f-b72e-48cf-be65-7518084d6259\")>,\n",
       " <selenium.webdriver.remote.webelement.WebElement (session=\"2ff6419df7a895e95948b401015ce95d\", element=\"efcde973-f111-4c31-a214-60092b295c07\")>,\n",
       " <selenium.webdriver.remote.webelement.WebElement (session=\"2ff6419df7a895e95948b401015ce95d\", element=\"c5105563-0f70-4cca-9ecb-2dcc0c9303c0\")>,\n",
       " <selenium.webdriver.remote.webelement.WebElement (session=\"2ff6419df7a895e95948b401015ce95d\", element=\"7e4a9b84-a935-4f19-bd9e-c69699526971\")>,\n",
       " <selenium.webdriver.remote.webelement.WebElement (session=\"2ff6419df7a895e95948b401015ce95d\", element=\"855251f5-3791-4ac7-bb09-309e1897de4c\")>,\n",
       " <selenium.webdriver.remote.webelement.WebElement (session=\"2ff6419df7a895e95948b401015ce95d\", element=\"f1120cb7-9a56-493a-8a06-d0c2af3f22ad\")>,\n",
       " <selenium.webdriver.remote.webelement.WebElement (session=\"2ff6419df7a895e95948b401015ce95d\", element=\"d6f762d2-0065-48d1-8f52-0d107468ddd3\")>,\n",
       " <selenium.webdriver.remote.webelement.WebElement (session=\"2ff6419df7a895e95948b401015ce95d\", element=\"0f36eff4-f11f-435e-9e71-d7c0108f4fff\")>,\n",
       " <selenium.webdriver.remote.webelement.WebElement (session=\"2ff6419df7a895e95948b401015ce95d\", element=\"b8427500-83a2-47d8-bf3f-675e0757a887\")>,\n",
       " <selenium.webdriver.remote.webelement.WebElement (session=\"2ff6419df7a895e95948b401015ce95d\", element=\"7ba89734-7c6b-4d60-8594-2a1f39354900\")>,\n",
       " <selenium.webdriver.remote.webelement.WebElement (session=\"2ff6419df7a895e95948b401015ce95d\", element=\"af4a1d8c-e19c-4623-8b46-73c83bb56aad\")>,\n",
       " <selenium.webdriver.remote.webelement.WebElement (session=\"2ff6419df7a895e95948b401015ce95d\", element=\"c115d389-36ac-4928-b1cb-acb166ce4052\")>,\n",
       " <selenium.webdriver.remote.webelement.WebElement (session=\"2ff6419df7a895e95948b401015ce95d\", element=\"ea2ad80a-79a5-47c3-88f0-3dc869384ff7\")>,\n",
       " <selenium.webdriver.remote.webelement.WebElement (session=\"2ff6419df7a895e95948b401015ce95d\", element=\"da97cda6-0ec5-4012-ae3b-4a51228527c8\")>,\n",
       " <selenium.webdriver.remote.webelement.WebElement (session=\"2ff6419df7a895e95948b401015ce95d\", element=\"74c0f1de-0b5b-46e8-82d7-00000ca41879\")>,\n",
       " <selenium.webdriver.remote.webelement.WebElement (session=\"2ff6419df7a895e95948b401015ce95d\", element=\"b63f8069-de1d-4134-a5f9-46b7d2cc457b\")>]"
      ]
     },
     "execution_count": 37,
     "metadata": {},
     "output_type": "execute_result"
    }
   ],
   "source": [
    "price=driver.find_elements_by_xpath(\"//span[@class='a-price']\")\n",
    "price"
   ]
  },
  {
   "cell_type": "code",
   "execution_count": 38,
   "id": "e73875f6",
   "metadata": {},
   "outputs": [
    {
     "data": {
      "text/plain": [
       "['₹81,999',\n",
       " '₹96,999',\n",
       " '₹57,490',\n",
       " '₹77,499',\n",
       " '₹89,990',\n",
       " '₹89,999',\n",
       " '₹92,900',\n",
       " '₹96,999',\n",
       " '₹85,790',\n",
       " '₹95,990']"
      ]
     },
     "execution_count": 38,
     "metadata": {},
     "output_type": "execute_result"
    }
   ],
   "source": [
    "product_price=[]\n",
    "for i in price[:10]:\n",
    "    product_price.append(i.text)\n",
    "    \n",
    "product_price\n",
    "\n"
   ]
  },
  {
   "cell_type": "code",
   "execution_count": 49,
   "id": "ee3b7fae",
   "metadata": {},
   "outputs": [
    {
     "name": "stdout",
     "output_type": "stream",
     "text": [
      "10 10 10\n"
     ]
    }
   ],
   "source": [
    "print(len(prod_title),len(Ratings),len(product_price))"
   ]
  },
  {
   "cell_type": "code",
   "execution_count": 50,
   "id": "09aa02bd",
   "metadata": {},
   "outputs": [
    {
     "data": {
      "text/html": [
       "<div>\n",
       "<style scoped>\n",
       "    .dataframe tbody tr th:only-of-type {\n",
       "        vertical-align: middle;\n",
       "    }\n",
       "\n",
       "    .dataframe tbody tr th {\n",
       "        vertical-align: top;\n",
       "    }\n",
       "\n",
       "    .dataframe thead th {\n",
       "        text-align: right;\n",
       "    }\n",
       "</style>\n",
       "<table border=\"1\" class=\"dataframe\">\n",
       "  <thead>\n",
       "    <tr style=\"text-align: right;\">\n",
       "      <th></th>\n",
       "      <th>Product name</th>\n",
       "      <th>Rating</th>\n",
       "      <th>Price</th>\n",
       "    </tr>\n",
       "  </thead>\n",
       "  <tbody>\n",
       "    <tr>\n",
       "      <th>0</th>\n",
       "      <td>Sponsored\\nLG Gram 14 inches Ultra-Light Intel...</td>\n",
       "      <td></td>\n",
       "      <td>₹81,999</td>\n",
       "    </tr>\n",
       "    <tr>\n",
       "      <th>1</th>\n",
       "      <td>Sponsored\\nLG Gram Intel Evo 11th Gen Core i7 ...</td>\n",
       "      <td></td>\n",
       "      <td>₹96,999</td>\n",
       "    </tr>\n",
       "    <tr>\n",
       "      <th>2</th>\n",
       "      <td>ASUS VivoBook 14 (2021), 14-inch (35.56 cms) F...</td>\n",
       "      <td></td>\n",
       "      <td>₹57,490</td>\n",
       "    </tr>\n",
       "    <tr>\n",
       "      <th>3</th>\n",
       "      <td>Mi Notebook Ultra 3.2K Resolution Display Inte...</td>\n",
       "      <td></td>\n",
       "      <td>₹77,499</td>\n",
       "    </tr>\n",
       "    <tr>\n",
       "      <th>4</th>\n",
       "      <td>ASUS TUF Gaming F15 (2021), 15.6\" (39.62 cms) ...</td>\n",
       "      <td></td>\n",
       "      <td>₹89,990</td>\n",
       "    </tr>\n",
       "    <tr>\n",
       "      <th>5</th>\n",
       "      <td>LG Gram 16 inches Intel Evo 11th Gen Core i7 U...</td>\n",
       "      <td></td>\n",
       "      <td>₹89,999</td>\n",
       "    </tr>\n",
       "    <tr>\n",
       "      <th>6</th>\n",
       "      <td>ASUS ZenBook 13 OLED (2021) Intel Core i7-1165...</td>\n",
       "      <td></td>\n",
       "      <td>₹92,900</td>\n",
       "    </tr>\n",
       "    <tr>\n",
       "      <th>7</th>\n",
       "      <td>LG Gram Intel Evo 11th Gen Core i7 17 inches U...</td>\n",
       "      <td></td>\n",
       "      <td>₹96,999</td>\n",
       "    </tr>\n",
       "    <tr>\n",
       "      <th>8</th>\n",
       "      <td>HP Pavilion x360 11th Gen Intel Core i7 14 inc...</td>\n",
       "      <td></td>\n",
       "      <td>₹85,790</td>\n",
       "    </tr>\n",
       "    <tr>\n",
       "      <th>9</th>\n",
       "      <td>ASUS TUF Dash F15 (2021) 15.6-inch (39.62 cms)...</td>\n",
       "      <td></td>\n",
       "      <td>₹95,990</td>\n",
       "    </tr>\n",
       "  </tbody>\n",
       "</table>\n",
       "</div>"
      ],
      "text/plain": [
       "                                        Product name Rating    Price\n",
       "0  Sponsored\\nLG Gram 14 inches Ultra-Light Intel...         ₹81,999\n",
       "1  Sponsored\\nLG Gram Intel Evo 11th Gen Core i7 ...         ₹96,999\n",
       "2  ASUS VivoBook 14 (2021), 14-inch (35.56 cms) F...         ₹57,490\n",
       "3  Mi Notebook Ultra 3.2K Resolution Display Inte...         ₹77,499\n",
       "4  ASUS TUF Gaming F15 (2021), 15.6\" (39.62 cms) ...         ₹89,990\n",
       "5  LG Gram 16 inches Intel Evo 11th Gen Core i7 U...         ₹89,999\n",
       "6  ASUS ZenBook 13 OLED (2021) Intel Core i7-1165...         ₹92,900\n",
       "7  LG Gram Intel Evo 11th Gen Core i7 17 inches U...         ₹96,999\n",
       "8  HP Pavilion x360 11th Gen Intel Core i7 14 inc...         ₹85,790\n",
       "9  ASUS TUF Dash F15 (2021) 15.6-inch (39.62 cms)...         ₹95,990"
      ]
     },
     "execution_count": 50,
     "metadata": {},
     "output_type": "execute_result"
    }
   ],
   "source": [
    "amazon=pd.DataFrame({})\n",
    "amazon['Product name']=prod_title\n",
    "amazon['Rating']=Ratings\n",
    "amazon['Price']=product_price\n",
    "amazon"
   ]
  },
  {
   "cell_type": "code",
   "execution_count": 51,
   "id": "d2da7230",
   "metadata": {},
   "outputs": [],
   "source": [
    "amazon.to_csv(\"Amazon_Laptops.csv\")"
   ]
  },
  {
   "cell_type": "code",
   "execution_count": 52,
   "id": "2137a612",
   "metadata": {},
   "outputs": [],
   "source": [
    "driver.close()"
   ]
  },
  {
   "cell_type": "code",
   "execution_count": null,
   "id": "13a6e3de",
   "metadata": {},
   "outputs": [],
   "source": []
  }
 ],
 "metadata": {
  "kernelspec": {
   "display_name": "Python 3 (ipykernel)",
   "language": "python",
   "name": "python3"
  },
  "language_info": {
   "codemirror_mode": {
    "name": "ipython",
    "version": 3
   },
   "file_extension": ".py",
   "mimetype": "text/x-python",
   "name": "python",
   "nbconvert_exporter": "python",
   "pygments_lexer": "ipython3",
   "version": "3.9.7"
  }
 },
 "nbformat": 4,
 "nbformat_minor": 5
}
