{
 "cells": [
  {
   "cell_type": "markdown",
   "id": "d3ebfe10",
   "metadata": {},
   "source": [
    "# ASSIGNMENT-2"
   ]
  },
  {
   "cell_type": "markdown",
   "id": "a3f92458",
   "metadata": {},
   "source": [
    "## Ans-3"
   ]
  },
  {
   "cell_type": "code",
   "execution_count": 1,
   "id": "77e990f9",
   "metadata": {},
   "outputs": [],
   "source": [
    "import selenium\n",
    "from selenium import webdriver\n",
    "import pandas as pd\n",
    "import warnings\n",
    "warnings.filterwarnings(\"ignore\")"
   ]
  },
  {
   "cell_type": "code",
   "execution_count": 2,
   "id": "f8d889b7",
   "metadata": {},
   "outputs": [],
   "source": [
    "driver=webdriver.Chrome(r'C:/Users/DELL/Downloads/chromedriver_win32/chromedriver.exe')"
   ]
  },
  {
   "cell_type": "code",
   "execution_count": 3,
   "id": "0f7bf660",
   "metadata": {},
   "outputs": [],
   "source": [
    "url='https://www.naukri.com/'\n",
    "driver.get(url)"
   ]
  },
  {
   "cell_type": "code",
   "execution_count": 4,
   "id": "c0cf3d88",
   "metadata": {},
   "outputs": [
    {
     "data": {
      "text/plain": [
       "<selenium.webdriver.remote.webelement.WebElement (session=\"234d6761c3d50310678764f5c04ce9c4\", element=\"ddf920ba-9328-48aa-94cb-9872e6ca53d2\")>"
      ]
     },
     "execution_count": 4,
     "metadata": {},
     "output_type": "execute_result"
    }
   ],
   "source": [
    "search_job=driver.find_element_by_class_name(\"suggestor-input \")\n",
    "search_job"
   ]
  },
  {
   "cell_type": "code",
   "execution_count": 6,
   "id": "270a53df",
   "metadata": {},
   "outputs": [],
   "source": [
    "search_job.send_keys(\"Data Scientist\")"
   ]
  },
  {
   "cell_type": "code",
   "execution_count": 14,
   "id": "e090c594",
   "metadata": {},
   "outputs": [
    {
     "data": {
      "text/plain": [
       "<selenium.webdriver.remote.webelement.WebElement (session=\"234d6761c3d50310678764f5c04ce9c4\", element=\"9e815033-254e-45ec-bacc-717b0da1aa15\")>"
      ]
     },
     "execution_count": 14,
     "metadata": {},
     "output_type": "execute_result"
    }
   ],
   "source": [
    "search_locn=driver.find_element_by_xpath('/html/body/div/div[2]/div[3]/div/div/div[3]/div/div/div/input')\n",
    "search_locn"
   ]
  },
  {
   "cell_type": "code",
   "execution_count": 15,
   "id": "78d4a004",
   "metadata": {},
   "outputs": [],
   "source": [
    "search_locn.send_keys(\"Delhi/NCR\")"
   ]
  },
  {
   "cell_type": "code",
   "execution_count": 16,
   "id": "e22ed906",
   "metadata": {},
   "outputs": [
    {
     "data": {
      "text/plain": [
       "<selenium.webdriver.remote.webelement.WebElement (session=\"234d6761c3d50310678764f5c04ce9c4\", element=\"6da65fa5-0f0f-4933-91c1-049384a67946\")>"
      ]
     },
     "execution_count": 16,
     "metadata": {},
     "output_type": "execute_result"
    }
   ],
   "source": [
    "search_btn=driver.find_element_by_xpath('/html/body/div/div[2]/div[3]/div/div/div[6]')\n",
    "search_btn"
   ]
  },
  {
   "cell_type": "code",
   "execution_count": 17,
   "id": "87db0e9a",
   "metadata": {},
   "outputs": [],
   "source": [
    "search_btn.click()"
   ]
  },
  {
   "cell_type": "code",
   "execution_count": 18,
   "id": "90ed0346",
   "metadata": {},
   "outputs": [
    {
     "data": {
      "text/plain": [
       "[<selenium.webdriver.remote.webelement.WebElement (session=\"234d6761c3d50310678764f5c04ce9c4\", element=\"a931fba8-5d04-48ed-81e9-3b70db079ebf\")>,\n",
       " <selenium.webdriver.remote.webelement.WebElement (session=\"234d6761c3d50310678764f5c04ce9c4\", element=\"3a01a882-6cd6-4ad6-8189-a9b57b8a5808\")>,\n",
       " <selenium.webdriver.remote.webelement.WebElement (session=\"234d6761c3d50310678764f5c04ce9c4\", element=\"07b658d0-f6e7-4ad0-8b17-788202da0018\")>,\n",
       " <selenium.webdriver.remote.webelement.WebElement (session=\"234d6761c3d50310678764f5c04ce9c4\", element=\"b57a1e67-14d4-4ce7-bea7-bfb6f66ef13c\")>,\n",
       " <selenium.webdriver.remote.webelement.WebElement (session=\"234d6761c3d50310678764f5c04ce9c4\", element=\"eeca085d-d0df-4554-a6af-e59ffddac155\")>,\n",
       " <selenium.webdriver.remote.webelement.WebElement (session=\"234d6761c3d50310678764f5c04ce9c4\", element=\"3057e3b5-a900-4948-ab53-08bed283648f\")>,\n",
       " <selenium.webdriver.remote.webelement.WebElement (session=\"234d6761c3d50310678764f5c04ce9c4\", element=\"91862f58-eae1-4a1e-abdd-de6c7732f294\")>,\n",
       " <selenium.webdriver.remote.webelement.WebElement (session=\"234d6761c3d50310678764f5c04ce9c4\", element=\"291abb4c-f597-4d10-8096-1f0a9ac8aa0c\")>,\n",
       " <selenium.webdriver.remote.webelement.WebElement (session=\"234d6761c3d50310678764f5c04ce9c4\", element=\"ce193fe7-93c3-4690-9b5f-89d24b270f6a\")>,\n",
       " <selenium.webdriver.remote.webelement.WebElement (session=\"234d6761c3d50310678764f5c04ce9c4\", element=\"dbdfe887-e5c6-4ee9-999d-208c3565aba3\")>]"
      ]
     },
     "execution_count": 18,
     "metadata": {},
     "output_type": "execute_result"
    }
   ],
   "source": [
    "title_tags=driver.find_elements_by_xpath('//a[@class=\"title fw500 ellipsis\"]')\n",
    "len(title_tags)\n",
    "title_tags[:10]"
   ]
  },
  {
   "cell_type": "code",
   "execution_count": 20,
   "id": "2ff84f18",
   "metadata": {},
   "outputs": [
    {
     "data": {
      "text/plain": [
       "['Excellent Opportunity For Freshers For AI/ML, Data Scientist, BI, QA',\n",
       " 'Data Scientist - MIND Infotech',\n",
       " 'Data Scientist - MIND Infotech',\n",
       " 'Hiring For Data Scientist',\n",
       " 'Junior Data Analyst/ Scientist- Fresher Position',\n",
       " 'Lead Data Scientist',\n",
       " 'Data Scientist',\n",
       " 'Open Project | IT Consulting | Data Scientist',\n",
       " 'Data Scientist (freelance)',\n",
       " 'Data Scientist']"
      ]
     },
     "execution_count": 20,
     "metadata": {},
     "output_type": "execute_result"
    }
   ],
   "source": [
    "job_titles=[]\n",
    "for i in title_tags:\n",
    "    job_titles.append(i.text)\n",
    "len(job_titles)\n",
    "job_titles[:10]"
   ]
  },
  {
   "cell_type": "code",
   "execution_count": 21,
   "id": "835f00fd",
   "metadata": {},
   "outputs": [
    {
     "data": {
      "text/plain": [
       "[<selenium.webdriver.remote.webelement.WebElement (session=\"234d6761c3d50310678764f5c04ce9c4\", element=\"b8fc9042-4966-41b1-81a7-690d7b797167\")>,\n",
       " <selenium.webdriver.remote.webelement.WebElement (session=\"234d6761c3d50310678764f5c04ce9c4\", element=\"6bfa64eb-6bca-44fb-a8df-45b70e8ad277\")>,\n",
       " <selenium.webdriver.remote.webelement.WebElement (session=\"234d6761c3d50310678764f5c04ce9c4\", element=\"1ea55c0e-4fc3-4548-904c-f7d028dbc13e\")>,\n",
       " <selenium.webdriver.remote.webelement.WebElement (session=\"234d6761c3d50310678764f5c04ce9c4\", element=\"7f6bcee3-8f8b-4047-85ad-2592d1fa910f\")>,\n",
       " <selenium.webdriver.remote.webelement.WebElement (session=\"234d6761c3d50310678764f5c04ce9c4\", element=\"08ca7e0a-b971-4cb9-9eaa-a9565ddf2785\")>,\n",
       " <selenium.webdriver.remote.webelement.WebElement (session=\"234d6761c3d50310678764f5c04ce9c4\", element=\"e4a1eb2f-9f35-4b57-b01c-5917e003b907\")>,\n",
       " <selenium.webdriver.remote.webelement.WebElement (session=\"234d6761c3d50310678764f5c04ce9c4\", element=\"9dafd2a2-5dda-4fc7-a00c-978ec33fb5b3\")>,\n",
       " <selenium.webdriver.remote.webelement.WebElement (session=\"234d6761c3d50310678764f5c04ce9c4\", element=\"80558220-7d50-438e-8d4c-89037c1446d2\")>,\n",
       " <selenium.webdriver.remote.webelement.WebElement (session=\"234d6761c3d50310678764f5c04ce9c4\", element=\"1cb4f1b9-bc86-4fba-990b-2514ee98c730\")>,\n",
       " <selenium.webdriver.remote.webelement.WebElement (session=\"234d6761c3d50310678764f5c04ce9c4\", element=\"461da1f3-b5a4-45c4-bce1-a62cd90ccae7\")>]"
      ]
     },
     "execution_count": 21,
     "metadata": {},
     "output_type": "execute_result"
    }
   ],
   "source": [
    "company_tags=driver.find_elements_by_xpath('//a[@class=\"subTitle ellipsis fleft\"]')\n",
    "company_tags[:10]"
   ]
  },
  {
   "cell_type": "code",
   "execution_count": 22,
   "id": "d02d5474",
   "metadata": {},
   "outputs": [
    {
     "data": {
      "text/plain": [
       "['NTT Data',\n",
       " 'MOTHERSONSUMI INFOTECH & DESIGNS LIMITED',\n",
       " 'MOTHERSONSUMI INFOTECH & DESIGNS LIMITED',\n",
       " 'Lumiq.ai',\n",
       " 'Sejal Consulting Hub',\n",
       " 'Indihire HR Consultants Private Limited',\n",
       " 'Optum',\n",
       " 'Virtuoso Staffing Solutions Pvt Ltd',\n",
       " '2Coms',\n",
       " 'CHANGE LEADERS CONSULTING']"
      ]
     },
     "execution_count": 22,
     "metadata": {},
     "output_type": "execute_result"
    }
   ],
   "source": [
    "company_names=[]\n",
    "for i in company_tags:\n",
    "    company_names.append(i.text)\n",
    "    \n",
    "company_names[:10]"
   ]
  },
  {
   "cell_type": "code",
   "execution_count": 23,
   "id": "ab4920e4",
   "metadata": {},
   "outputs": [
    {
     "data": {
      "text/plain": [
       "20"
      ]
     },
     "execution_count": 23,
     "metadata": {},
     "output_type": "execute_result"
    }
   ],
   "source": [
    "exp_tags=driver.find_elements_by_xpath('//li[@class=\"fleft grey-text br2 placeHolderLi experience\"]')\n",
    "len(exp_tags)"
   ]
  },
  {
   "cell_type": "code",
   "execution_count": 24,
   "id": "f699281f",
   "metadata": {},
   "outputs": [
    {
     "data": {
      "text/plain": [
       "['0-0 Yrs',\n",
       " '4-8 Yrs',\n",
       " '4-8 Yrs',\n",
       " '2-7 Yrs',\n",
       " '0-3 Yrs',\n",
       " '2-4 Yrs',\n",
       " '2-6 Yrs',\n",
       " '5-10 Yrs',\n",
       " '2-7 Yrs',\n",
       " '3-8 Yrs']"
      ]
     },
     "execution_count": 24,
     "metadata": {},
     "output_type": "execute_result"
    }
   ],
   "source": [
    "experience=[]\n",
    "for i in exp_tags:\n",
    "    experience.append(i.text)\n",
    "    \n",
    "experience[:10]"
   ]
  },
  {
   "cell_type": "code",
   "execution_count": 25,
   "id": "b7367ebd",
   "metadata": {},
   "outputs": [
    {
     "data": {
      "text/plain": [
       "20"
      ]
     },
     "execution_count": 25,
     "metadata": {},
     "output_type": "execute_result"
    }
   ],
   "source": [
    "locn_tags=driver.find_elements_by_xpath('//li[@class=\"fleft grey-text br2 placeHolderLi location\"]')\n",
    "len(locn_tags)"
   ]
  },
  {
   "cell_type": "code",
   "execution_count": 26,
   "id": "8765a6eb",
   "metadata": {},
   "outputs": [
    {
     "data": {
      "text/plain": [
       "['Noida, Kolkata, Hyderabad/Secunderabad, Pune, Chennai, Bangalore/Bengaluru, Delhi / NCR, Mumbai (All Areas)\\n(WFH during Covid)',\n",
       " 'Noida',\n",
       " 'Noida',\n",
       " 'Noida, Pune, Mumbai (All Areas)',\n",
       " 'Kolkata, Hyderabad/Secunderabad, Pune, Ahmedabad, Chennai, Bangalore/Bengaluru, Delhi / NCR, Mumbai (All Areas)\\n(WFH during Covid)',\n",
       " 'Delhi / NCR\\n(WFH during Covid)',\n",
       " 'Noida, Gurgaon/Gurugram',\n",
       " 'Noida, New Delhi, Bangalore Rural, Bangalore/Bengaluru, Delhi / NCR\\n(WFH during Covid)',\n",
       " 'New Delhi, Delhi',\n",
       " 'Hyderabad/Secunderabad, Pune, Chennai, Delhi / NCR, Mumbai (All Areas)']"
      ]
     },
     "execution_count": 26,
     "metadata": {},
     "output_type": "execute_result"
    }
   ],
   "source": [
    "location=[]\n",
    "for i in locn_tags:\n",
    "    location.append(i.text)\n",
    "    \n",
    "location[:10]"
   ]
  },
  {
   "cell_type": "code",
   "execution_count": 29,
   "id": "b2ecc360",
   "metadata": {},
   "outputs": [
    {
     "data": {
      "text/plain": [
       "(20, 20, 20, 20)"
      ]
     },
     "execution_count": 29,
     "metadata": {},
     "output_type": "execute_result"
    }
   ],
   "source": [
    "len(job_titles),len(company_names),len(experience),len(location)"
   ]
  },
  {
   "cell_type": "code",
   "execution_count": 31,
   "id": "6cb4a052",
   "metadata": {},
   "outputs": [
    {
     "data": {
      "text/html": [
       "<div>\n",
       "<style scoped>\n",
       "    .dataframe tbody tr th:only-of-type {\n",
       "        vertical-align: middle;\n",
       "    }\n",
       "\n",
       "    .dataframe tbody tr th {\n",
       "        vertical-align: top;\n",
       "    }\n",
       "\n",
       "    .dataframe thead th {\n",
       "        text-align: right;\n",
       "    }\n",
       "</style>\n",
       "<table border=\"1\" class=\"dataframe\">\n",
       "  <thead>\n",
       "    <tr style=\"text-align: right;\">\n",
       "      <th></th>\n",
       "      <th>Job Title</th>\n",
       "      <th>Company Name</th>\n",
       "      <th>Experience</th>\n",
       "      <th>Location</th>\n",
       "    </tr>\n",
       "  </thead>\n",
       "  <tbody>\n",
       "    <tr>\n",
       "      <th>0</th>\n",
       "      <td>Excellent Opportunity For Freshers For AI/ML, ...</td>\n",
       "      <td>NTT Data</td>\n",
       "      <td>0-0 Yrs</td>\n",
       "      <td>Noida, Kolkata, Hyderabad/Secunderabad, Pune, ...</td>\n",
       "    </tr>\n",
       "    <tr>\n",
       "      <th>1</th>\n",
       "      <td>Data Scientist - MIND Infotech</td>\n",
       "      <td>MOTHERSONSUMI INFOTECH &amp; DESIGNS LIMITED</td>\n",
       "      <td>4-8 Yrs</td>\n",
       "      <td>Noida</td>\n",
       "    </tr>\n",
       "    <tr>\n",
       "      <th>2</th>\n",
       "      <td>Data Scientist - MIND Infotech</td>\n",
       "      <td>MOTHERSONSUMI INFOTECH &amp; DESIGNS LIMITED</td>\n",
       "      <td>4-8 Yrs</td>\n",
       "      <td>Noida</td>\n",
       "    </tr>\n",
       "    <tr>\n",
       "      <th>3</th>\n",
       "      <td>Hiring For Data Scientist</td>\n",
       "      <td>Lumiq.ai</td>\n",
       "      <td>2-7 Yrs</td>\n",
       "      <td>Noida, Pune, Mumbai (All Areas)</td>\n",
       "    </tr>\n",
       "    <tr>\n",
       "      <th>4</th>\n",
       "      <td>Junior Data Analyst/ Scientist- Fresher Position</td>\n",
       "      <td>Sejal Consulting Hub</td>\n",
       "      <td>0-3 Yrs</td>\n",
       "      <td>Kolkata, Hyderabad/Secunderabad, Pune, Ahmedab...</td>\n",
       "    </tr>\n",
       "    <tr>\n",
       "      <th>5</th>\n",
       "      <td>Lead Data Scientist</td>\n",
       "      <td>Indihire HR Consultants Private Limited</td>\n",
       "      <td>2-4 Yrs</td>\n",
       "      <td>Delhi / NCR\\n(WFH during Covid)</td>\n",
       "    </tr>\n",
       "    <tr>\n",
       "      <th>6</th>\n",
       "      <td>Data Scientist</td>\n",
       "      <td>Optum</td>\n",
       "      <td>2-6 Yrs</td>\n",
       "      <td>Noida, Gurgaon/Gurugram</td>\n",
       "    </tr>\n",
       "    <tr>\n",
       "      <th>7</th>\n",
       "      <td>Open Project | IT Consulting | Data Scientist</td>\n",
       "      <td>Virtuoso Staffing Solutions Pvt Ltd</td>\n",
       "      <td>5-10 Yrs</td>\n",
       "      <td>Noida, New Delhi, Bangalore Rural, Bangalore/B...</td>\n",
       "    </tr>\n",
       "    <tr>\n",
       "      <th>8</th>\n",
       "      <td>Data Scientist (freelance)</td>\n",
       "      <td>2Coms</td>\n",
       "      <td>2-7 Yrs</td>\n",
       "      <td>New Delhi, Delhi</td>\n",
       "    </tr>\n",
       "    <tr>\n",
       "      <th>9</th>\n",
       "      <td>Data Scientist</td>\n",
       "      <td>CHANGE LEADERS CONSULTING</td>\n",
       "      <td>3-8 Yrs</td>\n",
       "      <td>Hyderabad/Secunderabad, Pune, Chennai, Delhi /...</td>\n",
       "    </tr>\n",
       "  </tbody>\n",
       "</table>\n",
       "</div>"
      ],
      "text/plain": [
       "                                           Job Title  \\\n",
       "0  Excellent Opportunity For Freshers For AI/ML, ...   \n",
       "1                     Data Scientist - MIND Infotech   \n",
       "2                     Data Scientist - MIND Infotech   \n",
       "3                          Hiring For Data Scientist   \n",
       "4   Junior Data Analyst/ Scientist- Fresher Position   \n",
       "5                                Lead Data Scientist   \n",
       "6                                     Data Scientist   \n",
       "7      Open Project | IT Consulting | Data Scientist   \n",
       "8                         Data Scientist (freelance)   \n",
       "9                                     Data Scientist   \n",
       "\n",
       "                               Company Name Experience  \\\n",
       "0                                  NTT Data    0-0 Yrs   \n",
       "1  MOTHERSONSUMI INFOTECH & DESIGNS LIMITED    4-8 Yrs   \n",
       "2  MOTHERSONSUMI INFOTECH & DESIGNS LIMITED    4-8 Yrs   \n",
       "3                                  Lumiq.ai    2-7 Yrs   \n",
       "4                      Sejal Consulting Hub    0-3 Yrs   \n",
       "5   Indihire HR Consultants Private Limited    2-4 Yrs   \n",
       "6                                     Optum    2-6 Yrs   \n",
       "7       Virtuoso Staffing Solutions Pvt Ltd   5-10 Yrs   \n",
       "8                                     2Coms    2-7 Yrs   \n",
       "9                 CHANGE LEADERS CONSULTING    3-8 Yrs   \n",
       "\n",
       "                                            Location  \n",
       "0  Noida, Kolkata, Hyderabad/Secunderabad, Pune, ...  \n",
       "1                                              Noida  \n",
       "2                                              Noida  \n",
       "3                    Noida, Pune, Mumbai (All Areas)  \n",
       "4  Kolkata, Hyderabad/Secunderabad, Pune, Ahmedab...  \n",
       "5                    Delhi / NCR\\n(WFH during Covid)  \n",
       "6                            Noida, Gurgaon/Gurugram  \n",
       "7  Noida, New Delhi, Bangalore Rural, Bangalore/B...  \n",
       "8                                   New Delhi, Delhi  \n",
       "9  Hyderabad/Secunderabad, Pune, Chennai, Delhi /...  "
      ]
     },
     "execution_count": 31,
     "metadata": {},
     "output_type": "execute_result"
    }
   ],
   "source": [
    "jobs=pd.DataFrame()\n",
    "jobs['Job Title']=job_titles[:10]\n",
    "jobs['Company Name']=company_names[:10]\n",
    "jobs['Experience']=experience[:10]\n",
    "jobs['Location']=location[:10]\n",
    "jobs"
   ]
  },
  {
   "cell_type": "code",
   "execution_count": 33,
   "id": "f0e5bd1f",
   "metadata": {},
   "outputs": [],
   "source": [
    "jobs.to_csv(\"Jobs of Data Scientist,Delhi NCR.csv\")"
   ]
  },
  {
   "cell_type": "code",
   "execution_count": 34,
   "id": "db487b94",
   "metadata": {},
   "outputs": [],
   "source": [
    "driver.close()"
   ]
  },
  {
   "cell_type": "code",
   "execution_count": null,
   "id": "c9b0a655",
   "metadata": {},
   "outputs": [],
   "source": []
  }
 ],
 "metadata": {
  "kernelspec": {
   "display_name": "Python 3 (ipykernel)",
   "language": "python",
   "name": "python3"
  },
  "language_info": {
   "codemirror_mode": {
    "name": "ipython",
    "version": 3
   },
   "file_extension": ".py",
   "mimetype": "text/x-python",
   "name": "python",
   "nbconvert_exporter": "python",
   "pygments_lexer": "ipython3",
   "version": "3.9.7"
  }
 },
 "nbformat": 4,
 "nbformat_minor": 5
}
